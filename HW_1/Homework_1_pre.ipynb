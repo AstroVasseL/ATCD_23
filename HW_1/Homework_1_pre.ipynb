{
 "cells": [
  {
   "cell_type": "code",
   "execution_count": 1,
   "id": "f60fa0e7-f1db-4539-a307-e4f4522f7b9a",
   "metadata": {},
   "outputs": [],
   "source": [
    "import os\n",
    "import struct\n",
    "import numpy as np\n",
    "import sys\n",
    "import gzip\n",
    "import shutil\n",
    "import matplotlib.pyplot as plt\n",
    "from sklearn.model_selection import ParameterGrid,train_test_split\n",
    "from sklearn.neural_network import MLPRegressor\n",
    "import warnings\n",
    "warnings.filterwarnings(\"ignore\")"
   ]
  },
  {
   "cell_type": "markdown",
   "id": "8b02a442-0c30-4dc9-a382-61c1861c9ac2",
   "metadata": {},
   "source": [
    "### Generate the noisy sin data and plot them "
   ]
  },
  {
   "cell_type": "code",
   "execution_count": 191,
   "id": "0bc58a83-e218-40fd-bf54-b52317fea85d",
   "metadata": {},
   "outputs": [
    {
     "data": {
      "image/png": "[encoded data removed]",
      "text/plain": [
       "<Figure size 432x288 with 1 Axes>"
      ]
     },
     "metadata": {
      "needs_background": "light"
     },
     "output_type": "display_data"
    }
   ],
   "source": [
    "n_samples=5000\n",
    "x_values=np.random.uniform(low=0,high=2*np.pi,size=n_samples)\n",
    "sin_wave=np.sin(x_values)+(0.1*np.random.randn(x_values.shape[0]))\n",
    "plt.plot(x_values,sin_wave,'.')\n",
    "plt.show()"
   ]
  },
  {
   "cell_type": "code",
   "execution_count": 192,
   "id": "d8aa6400",
   "metadata": {},
   "outputs": [
    {
     "data": {
      "text/plain": [
       "0.009841276213353307"
      ]
     },
     "execution_count": 192,
     "metadata": {},
     "output_type": "execute_result"
    }
   ],
   "source": [
    "np.mean((np.sin(x_values)-sin_wave)**2)"
   ]
  },
  {
   "cell_type": "markdown",
   "id": "70be14db",
   "metadata": {},
   "source": [
    "### Defining the MLP "
   ]
  },
  {
   "cell_type": "markdown",
   "id": "c274403b-f619-4209-ae3b-56dd8b267142",
   "metadata": {},
   "source": [
    "To define the MLP the class MLPRegressor from sklearn has been used (see https://scikit-learn.org/stable/modules/generated/sklearn.neural_network.MLPRegressor.html), the parameter n_iter_no_change has been set equal to the number of epochs to be sure that the training procedure will run till the end. "
   ]
  },
  {
   "cell_type": "code",
   "execution_count": 3,
   "id": "17bb6b97-dd00-4d30-895f-73dfc97c994e",
   "metadata": {},
   "outputs": [],
   "source": [
    "class MLP():\n",
    "    \n",
    "    def _compute_cost(self, y, output):\n",
    "        \n",
    "        squared_weights_sum=0\n",
    "        weights=np.array(self.mlp.coefs_)\n",
    "        \n",
    "        for layer_weights in weights:\n",
    "            squared_weights_sum+=np.sum(layer_weights**2)\n",
    "            \n",
    "        L2_term = (self.l2 * (squared_weights_sum))\n",
    "        \n",
    "        cost = np.sum(np.square(output-y))/output.shape[0] + L2_term\n",
    "        return cost\n",
    "\n",
    "    \n",
    "    def __init__(self,n_hidden=100,seed=2,l2 = 0.001,epochs = 80,eta = 0.005,shuffle = True, minibatch_size = 100):\n",
    "        \n",
    "        self.n_hidden=n_hidden\n",
    "        self.seed=seed\n",
    "        self.l2 = l2\n",
    "        self.epochs = epochs\n",
    "        self.eta = eta\n",
    "        self.shuffle = shuffle\n",
    "        self.minibatch_size = minibatch_size\n",
    "        self.mlp=None\n",
    "        \n",
    "    def train(self,X_train,y_train,X_validation,y_validation):\n",
    "        \n",
    "        loss_curve_training=[]\n",
    "        loss_curve_validation=[]\n",
    "        \n",
    "        epoch_strlen = len(str(self.epochs))\n",
    "        self.eval_ = {'cost': [], 'train_mse': [], 'valid_mse': []}\n",
    "        \n",
    "        self.mlp=MLPRegressor(hidden_layer_sizes=self.n_hidden,activation='relu',max_iter=self.epochs,solver='adam',\n",
    "                                shuffle=self.shuffle,\n",
    "                                batch_size=self.minibatch_size,learning_rate_init=self.eta,verbose=False,alpha=self.l2,\n",
    "                                n_iter_no_change=self.epochs)\n",
    "        \n",
    "        for i in range(self.epochs):\n",
    "            \n",
    "            self.mlp.partial_fit(X_train,y_train)\n",
    "            y_pred_training=self.predict(X_train)\n",
    "            y_pred_validation=self.predict(X_validation)\n",
    "            mse_training=np.mean(np.square(y_train-y_pred_training))\n",
    "            mse_validation=np.mean(np.square(y_validation-y_pred_validation))\n",
    "            \n",
    "            loss_curve_training.append(mse_training)\n",
    "            loss_curve_validation.append(mse_validation)\n",
    "            \n",
    "            cost = self._compute_cost(y=y_train,\n",
    "                                      output=y_pred_training)\n",
    "            \n",
    "\n",
    "            sys.stderr.write('\\r%0*d/%d | Cost: %.2f '\n",
    "                             '| Train/Valid MSE.: %.2f/%.2f ' %\n",
    "                             (epoch_strlen, i+1, self.epochs, cost,\n",
    "                              mse_training, mse_validation))\n",
    "            sys.stderr.flush()\n",
    "\n",
    "            self.eval_['cost'].append(cost)\n",
    "            self.eval_['train_mse'].append(mse_training)\n",
    "            self.eval_['valid_mse'].append(mse_validation)\n",
    "            \n",
    "        \n",
    "    def evaluate(self,X,y):\n",
    "        \n",
    "        y_pred=self.predict(X)\n",
    "        mse=np.mean(np.square(y-y_pred))\n",
    "        print(\"mean squared error:{}\".format(mse))\n",
    "        \n",
    "    def predict(self,X):\n",
    "        \n",
    "        if(self.mlp==None):\n",
    "            print(\"model not trained\")\n",
    "        else:\n",
    "            predictions=self.mlp.predict(X)\n",
    "        \n",
    "        return predictions\n",
    "    \n",
    "    def printer(self):\n",
    "        return self.eval_['train_mse'],self.eval_['valid_mse']\n",
    "    \n",
    "    def printer_train(self):\n",
    "        return self.eval_['cost']\n",
    "    \n"
   ]
  },
  {
   "cell_type": "code",
   "execution_count": 71,
   "id": "40558904-fedf-4180-aba4-b7fad4412b6a",
   "metadata": {},
   "outputs": [
    {
     "name": "stderr",
     "output_type": "stream",
     "text": [
      "80/80 | Cost: 0.03 | Train/Valid MSE.: 0.01/0.01 "
     ]
    },
    {
     "name": "stdout",
     "output_type": "stream",
     "text": [
      "mean squared error:0.011486870999282521\n"
     ]
    }
   ],
   "source": [
    "import numpy as np\n",
    "from sklearn.model_selection import train_test_split\n",
    "\n",
    "\n",
    "X_values = x_values.reshape(-1, 1)\n",
    "# sin_wave = sin_wave.reshape(-1, 1)\n",
    "\n",
    "\n",
    "X_train_val, X_test, y_train_val, y_test = train_test_split(X_values, sin_wave, test_size=0.25, random_state=42)\n",
    "X_train, X_val, y_train, y_val = train_test_split(X_train_val, y_train_val, test_size=(1/3), random_state=42)\n",
    "\n",
    "\n",
    "mlp = MLP()\n",
    "mlp.train(X_train, y_train, X_val, y_val)\n",
    "mlp.evaluate(X_test, y_test)\n"
   ]
  },
  {
   "cell_type": "code",
   "execution_count": null,
   "id": "debc03e6",
   "metadata": {},
   "outputs": [],
   "source": []
  },
  {
   "cell_type": "code",
   "execution_count": null,
   "id": "04e96d7f",
   "metadata": {},
   "outputs": [],
   "source": []
  },
  {
   "cell_type": "code",
   "execution_count": 150,
   "id": "7276e9ad",
   "metadata": {},
   "outputs": [
    {
     "data": {
      "image/png": "[encoded data removed]",
      "text/plain": [
       "<Figure size 1152x576 with 1 Axes>"
      ]
     },
     "metadata": {
      "needs_background": "light"
     },
     "output_type": "display_data"
    }
   ],
   "source": [
    "plt.figure(figsize=(16,8))\n",
    "plt.scatter(X_train, y_train, label='Training', marker='.')\n",
    "plt.scatter(X_val, y_val, label='Validation', marker='.')\n",
    "plt.scatter(X_test, y_test, label='Testing', marker='.')\n",
    "plt.xlabel('X Values')\n",
    "plt.ylabel('Y values')\n",
    "plt.grid()\n",
    "# plt.title('Scatter Plot of X versus sin(X)')\n",
    "plt.legend()\n",
    "plt.show()"
   ]
  },
  {
   "cell_type": "code",
   "execution_count": 74,
   "id": "eed7bb42",
   "metadata": {},
   "outputs": [
    {
     "name": "stdout",
     "output_type": "stream",
     "text": [
      "Train data is size:  2500 Test data is size:  1250 Validation data is size:  1250\n"
     ]
    }
   ],
   "source": [
    "print('Train data is size: ',np.shape(y_train)[0], 'Test data is size: ', np.shape(y_test)[0],'Validation data is size: ',(np.shape(y_val)[0]))"
   ]
  },
  {
   "cell_type": "code",
   "execution_count": 75,
   "id": "09fa977c",
   "metadata": {},
   "outputs": [
    {
     "name": "stdout",
     "output_type": "stream",
     "text": [
      "mean squared error:0.011486870999282521\n"
     ]
    }
   ],
   "source": [
    "mlp.evaluate(X_test, y_test)"
   ]
  },
  {
   "cell_type": "code",
   "execution_count": 108,
   "id": "6ea0e3be",
   "metadata": {},
   "outputs": [],
   "source": [
    "msetrain, mseval = mlp.printer()"
   ]
  },
  {
   "cell_type": "code",
   "execution_count": null,
   "id": "5c4b8332",
   "metadata": {},
   "outputs": [],
   "source": []
  },
  {
   "cell_type": "code",
   "execution_count": 77,
   "id": "7cb4358e",
   "metadata": {},
   "outputs": [],
   "source": [
    "X_MSE = np.linspace(0,80,80)"
   ]
  },
  {
   "cell_type": "code",
   "execution_count": 113,
   "id": "1d5887dc",
   "metadata": {},
   "outputs": [
    {
     "data": {
      "image/png": "[encoded data removed]",
      "text/plain": [
       "<Figure size 1152x576 with 1 Axes>"
      ]
     },
     "metadata": {
      "needs_background": "light"
     },
     "output_type": "display_data"
    }
   ],
   "source": [
    "plt.figure(figsize=(16,8))\n",
    "plt.scatter(X_MSE,msetrain, label='MSE training', marker='x')\n",
    "plt.scatter(X_MSE,mseval, label='MSE validation', marker='x')\n",
    "plt.xlabel('# of epochs')\n",
    "plt.ylabel('MSE')\n",
    "plt.yscale('log')\n",
    "plt.legend()\n",
    "plt.grid()"
   ]
  },
  {
   "cell_type": "markdown",
   "id": "05cc5e87",
   "metadata": {},
   "source": [
    "The learning rate is a hyperparameter that controls the step size at each iteration during the training process of a machine learning model. It determines how quickly or slowly the model learns from the training data."
   ]
  },
  {
   "cell_type": "code",
   "execution_count": 79,
   "id": "22622e47",
   "metadata": {},
   "outputs": [],
   "source": [
    "eta = 0.005\n",
    "scalar = np.arange(0.01,50,1)\n"
   ]
  },
  {
   "cell_type": "code",
   "execution_count": 106,
   "id": "b41a168d",
   "metadata": {},
   "outputs": [],
   "source": [
    "def opti(scalar):\n",
    "    mse_optim = []\n",
    "    mse_train = []\n",
    "    mse_valid = []\n",
    "    for idx, val in enumerate(scalar):\n",
    "        print(val*eta)\n",
    "        mlp_i = MLP(eta = eta*val)\n",
    "        mlp_i.train(X_train, y_train, X_val, y_val)\n",
    "        cost = mlp_i.printer_train()\n",
    "        mse_training, mse_costing = mlp_i.printer()\n",
    "        last_cost = cost[-1]\n",
    "        last_mse_train = mse_training[-1]\n",
    "        last_mse_valid = mse_costing[-1]\n",
    "        mse_optim.append(last_cost)\n",
    "        mse_train.append(last_mse_train)\n",
    "        mse_valid.append(last_mse_valid)\n",
    "    return mse_optim, mse_train, mse_valid\n",
    "    "
   ]
  },
  {
   "cell_type": "code",
   "execution_count": 107,
   "id": "3c2e87cb",
   "metadata": {},
   "outputs": [
    {
     "name": "stderr",
     "output_type": "stream",
     "text": [
      "08/80 | Cost: 0.38 | Train/Valid MSE.: 0.37/0.37 "
     ]
    },
    {
     "name": "stdout",
     "output_type": "stream",
     "text": [
      "5e-05\n"
     ]
    },
    {
     "name": "stderr",
     "output_type": "stream",
     "text": [
      "08/80 | Cost: 0.07 | Train/Valid MSE.: 0.06/0.06 "
     ]
    },
    {
     "name": "stdout",
     "output_type": "stream",
     "text": [
      "0.00505\n"
     ]
    },
    {
     "name": "stderr",
     "output_type": "stream",
     "text": [
      "07/80 | Cost: 0.04 | Train/Valid MSE.: 0.03/0.03 "
     ]
    },
    {
     "name": "stdout",
     "output_type": "stream",
     "text": [
      "0.01005\n"
     ]
    },
    {
     "name": "stderr",
     "output_type": "stream",
     "text": [
      "08/80 | Cost: 0.04 | Train/Valid MSE.: 0.02/0.02 "
     ]
    },
    {
     "name": "stdout",
     "output_type": "stream",
     "text": [
      "0.01505\n"
     ]
    },
    {
     "name": "stderr",
     "output_type": "stream",
     "text": [
      "07/80 | Cost: 0.06 | Train/Valid MSE.: 0.05/0.05 "
     ]
    },
    {
     "name": "stdout",
     "output_type": "stream",
     "text": [
      "0.02005\n"
     ]
    },
    {
     "name": "stderr",
     "output_type": "stream",
     "text": [
      "07/80 | Cost: 0.03 | Train/Valid MSE.: 0.01/0.01 "
     ]
    },
    {
     "name": "stdout",
     "output_type": "stream",
     "text": [
      "0.02505\n"
     ]
    },
    {
     "name": "stderr",
     "output_type": "stream",
     "text": [
      "08/80 | Cost: 0.03 | Train/Valid MSE.: 0.01/0.01 "
     ]
    },
    {
     "name": "stdout",
     "output_type": "stream",
     "text": [
      "0.03005\n"
     ]
    },
    {
     "name": "stderr",
     "output_type": "stream",
     "text": [
      "07/80 | Cost: 0.03 | Train/Valid MSE.: 0.02/0.02 "
     ]
    },
    {
     "name": "stdout",
     "output_type": "stream",
     "text": [
      "0.03505\n"
     ]
    },
    {
     "name": "stderr",
     "output_type": "stream",
     "text": [
      "08/80 | Cost: 0.03 | Train/Valid MSE.: 0.02/0.02 "
     ]
    },
    {
     "name": "stdout",
     "output_type": "stream",
     "text": [
      "0.04005\n"
     ]
    },
    {
     "name": "stderr",
     "output_type": "stream",
     "text": [
      "08/80 | Cost: 0.03 | Train/Valid MSE.: 0.01/0.01 "
     ]
    },
    {
     "name": "stdout",
     "output_type": "stream",
     "text": [
      "0.04505\n"
     ]
    },
    {
     "name": "stderr",
     "output_type": "stream",
     "text": [
      "07/80 | Cost: 0.05 | Train/Valid MSE.: 0.04/0.03 "
     ]
    },
    {
     "name": "stdout",
     "output_type": "stream",
     "text": [
      "0.05005\n"
     ]
    },
    {
     "name": "stderr",
     "output_type": "stream",
     "text": [
      "07/80 | Cost: 0.07 | Train/Valid MSE.: 0.06/0.05 "
     ]
    },
    {
     "name": "stdout",
     "output_type": "stream",
     "text": [
      "0.05505\n"
     ]
    },
    {
     "name": "stderr",
     "output_type": "stream",
     "text": [
      "08/80 | Cost: 0.07 | Train/Valid MSE.: 0.05/0.05 "
     ]
    },
    {
     "name": "stdout",
     "output_type": "stream",
     "text": [
      "0.06005\n"
     ]
    },
    {
     "name": "stderr",
     "output_type": "stream",
     "text": [
      "07/80 | Cost: 0.11 | Train/Valid MSE.: 0.10/0.10 "
     ]
    },
    {
     "name": "stdout",
     "output_type": "stream",
     "text": [
      "0.06505\n"
     ]
    },
    {
     "name": "stderr",
     "output_type": "stream",
     "text": [
      "06/80 | Cost: 0.05 | Train/Valid MSE.: 0.03/0.03 "
     ]
    },
    {
     "name": "stdout",
     "output_type": "stream",
     "text": [
      "0.07005\n"
     ]
    },
    {
     "name": "stderr",
     "output_type": "stream",
     "text": [
      "06/80 | Cost: 0.11 | Train/Valid MSE.: 0.09/0.09 "
     ]
    },
    {
     "name": "stdout",
     "output_type": "stream",
     "text": [
      "0.07505\n"
     ]
    },
    {
     "name": "stderr",
     "output_type": "stream",
     "text": [
      "07/80 | Cost: 0.17 | Train/Valid MSE.: 0.15/0.15 "
     ]
    },
    {
     "name": "stdout",
     "output_type": "stream",
     "text": [
      "0.08005000000000001\n"
     ]
    },
    {
     "name": "stderr",
     "output_type": "stream",
     "text": [
      "07/80 | Cost: 0.10 | Train/Valid MSE.: 0.08/0.08 "
     ]
    },
    {
     "name": "stdout",
     "output_type": "stream",
     "text": [
      "0.08505000000000001\n"
     ]
    },
    {
     "name": "stderr",
     "output_type": "stream",
     "text": [
      "07/80 | Cost: 0.19 | Train/Valid MSE.: 0.16/0.16 "
     ]
    },
    {
     "name": "stdout",
     "output_type": "stream",
     "text": [
      "0.09005\n"
     ]
    },
    {
     "name": "stderr",
     "output_type": "stream",
     "text": [
      "08/80 | Cost: 0.17 | Train/Valid MSE.: 0.15/0.14 "
     ]
    },
    {
     "name": "stdout",
     "output_type": "stream",
     "text": [
      "0.09505000000000001\n"
     ]
    },
    {
     "name": "stderr",
     "output_type": "stream",
     "text": [
      "07/80 | Cost: 0.19 | Train/Valid MSE.: 0.16/0.16 "
     ]
    },
    {
     "name": "stdout",
     "output_type": "stream",
     "text": [
      "0.10005000000000001\n"
     ]
    },
    {
     "name": "stderr",
     "output_type": "stream",
     "text": [
      "08/80 | Cost: 0.19 | Train/Valid MSE.: 0.16/0.16 "
     ]
    },
    {
     "name": "stdout",
     "output_type": "stream",
     "text": [
      "0.10505\n"
     ]
    },
    {
     "name": "stderr",
     "output_type": "stream",
     "text": [
      "08/80 | Cost: 0.22 | Train/Valid MSE.: 0.17/0.17 "
     ]
    },
    {
     "name": "stdout",
     "output_type": "stream",
     "text": [
      "0.11005000000000001\n"
     ]
    },
    {
     "name": "stderr",
     "output_type": "stream",
     "text": [
      "08/80 | Cost: 0.19 | Train/Valid MSE.: 0.15/0.15 "
     ]
    },
    {
     "name": "stdout",
     "output_type": "stream",
     "text": [
      "0.11505000000000001\n"
     ]
    },
    {
     "name": "stderr",
     "output_type": "stream",
     "text": [
      "07/80 | Cost: 0.11 | Train/Valid MSE.: 0.07/0.07 "
     ]
    },
    {
     "name": "stdout",
     "output_type": "stream",
     "text": [
      "0.12005\n"
     ]
    },
    {
     "name": "stderr",
     "output_type": "stream",
     "text": [
      "08/80 | Cost: 0.19 | Train/Valid MSE.: 0.15/0.14 "
     ]
    },
    {
     "name": "stdout",
     "output_type": "stream",
     "text": [
      "0.12505000000000002\n"
     ]
    },
    {
     "name": "stderr",
     "output_type": "stream",
     "text": [
      "06/80 | Cost: 0.24 | Train/Valid MSE.: 0.18/0.17 "
     ]
    },
    {
     "name": "stdout",
     "output_type": "stream",
     "text": [
      "0.13005\n"
     ]
    },
    {
     "name": "stderr",
     "output_type": "stream",
     "text": [
      "07/80 | Cost: 0.09 | Train/Valid MSE.: 0.04/0.04 "
     ]
    },
    {
     "name": "stdout",
     "output_type": "stream",
     "text": [
      "0.13505\n"
     ]
    },
    {
     "name": "stderr",
     "output_type": "stream",
     "text": [
      "07/80 | Cost: 0.23 | Train/Valid MSE.: 0.15/0.15 "
     ]
    },
    {
     "name": "stdout",
     "output_type": "stream",
     "text": [
      "0.14005\n"
     ]
    },
    {
     "name": "stderr",
     "output_type": "stream",
     "text": [
      "07/80 | Cost: 0.21 | Train/Valid MSE.: 0.15/0.14 "
     ]
    },
    {
     "name": "stdout",
     "output_type": "stream",
     "text": [
      "0.14505\n"
     ]
    },
    {
     "name": "stderr",
     "output_type": "stream",
     "text": [
      "08/80 | Cost: 0.60 | Train/Valid MSE.: 0.51/0.51 "
     ]
    },
    {
     "name": "stdout",
     "output_type": "stream",
     "text": [
      "0.15005000000000002\n"
     ]
    },
    {
     "name": "stderr",
     "output_type": "stream",
     "text": [
      "07/80 | Cost: 0.23 | Train/Valid MSE.: 0.16/0.16 "
     ]
    },
    {
     "name": "stdout",
     "output_type": "stream",
     "text": [
      "0.15505000000000002\n"
     ]
    },
    {
     "name": "stderr",
     "output_type": "stream",
     "text": [
      "07/80 | Cost: 0.23 | Train/Valid MSE.: 0.16/0.15 "
     ]
    },
    {
     "name": "stdout",
     "output_type": "stream",
     "text": [
      "0.16005\n"
     ]
    },
    {
     "name": "stderr",
     "output_type": "stream",
     "text": [
      "07/80 | Cost: 0.22 | Train/Valid MSE.: 0.14/0.14 "
     ]
    },
    {
     "name": "stdout",
     "output_type": "stream",
     "text": [
      "0.16505\n"
     ]
    },
    {
     "name": "stderr",
     "output_type": "stream",
     "text": [
      "07/80 | Cost: 0.25 | Train/Valid MSE.: 0.16/0.15 "
     ]
    },
    {
     "name": "stdout",
     "output_type": "stream",
     "text": [
      "0.17005\n"
     ]
    },
    {
     "name": "stderr",
     "output_type": "stream",
     "text": [
      "07/80 | Cost: 0.23 | Train/Valid MSE.: 0.14/0.14 "
     ]
    },
    {
     "name": "stdout",
     "output_type": "stream",
     "text": [
      "0.17504999999999998\n"
     ]
    },
    {
     "name": "stderr",
     "output_type": "stream",
     "text": [
      "07/80 | Cost: 0.64 | Train/Valid MSE.: 0.51/0.51 "
     ]
    },
    {
     "name": "stdout",
     "output_type": "stream",
     "text": [
      "0.18005\n"
     ]
    },
    {
     "name": "stderr",
     "output_type": "stream",
     "text": [
      "08/80 | Cost: 0.60 | Train/Valid MSE.: 0.51/0.52 "
     ]
    },
    {
     "name": "stdout",
     "output_type": "stream",
     "text": [
      "0.18505\n"
     ]
    },
    {
     "name": "stderr",
     "output_type": "stream",
     "text": [
      "08/80 | Cost: 0.26 | Train/Valid MSE.: 0.17/0.17 "
     ]
    },
    {
     "name": "stdout",
     "output_type": "stream",
     "text": [
      "0.19005\n"
     ]
    },
    {
     "name": "stderr",
     "output_type": "stream",
     "text": [
      "06/80 | Cost: 0.33 | Train/Valid MSE.: 0.23/0.23 "
     ]
    },
    {
     "name": "stdout",
     "output_type": "stream",
     "text": [
      "0.19505\n"
     ]
    },
    {
     "name": "stderr",
     "output_type": "stream",
     "text": [
      "07/80 | Cost: 0.24 | Train/Valid MSE.: 0.14/0.14 "
     ]
    },
    {
     "name": "stdout",
     "output_type": "stream",
     "text": [
      "0.20005\n"
     ]
    },
    {
     "name": "stderr",
     "output_type": "stream",
     "text": [
      "07/80 | Cost: 0.68 | Train/Valid MSE.: 0.51/0.52 "
     ]
    },
    {
     "name": "stdout",
     "output_type": "stream",
     "text": [
      "0.20504999999999998\n"
     ]
    },
    {
     "name": "stderr",
     "output_type": "stream",
     "text": [
      "08/80 | Cost: 0.32 | Train/Valid MSE.: 0.18/0.17 "
     ]
    },
    {
     "name": "stdout",
     "output_type": "stream",
     "text": [
      "0.21005\n"
     ]
    },
    {
     "name": "stderr",
     "output_type": "stream",
     "text": [
      "07/80 | Cost: 0.33 | Train/Valid MSE.: 0.18/0.18 "
     ]
    },
    {
     "name": "stdout",
     "output_type": "stream",
     "text": [
      "0.21505\n"
     ]
    },
    {
     "name": "stderr",
     "output_type": "stream",
     "text": [
      "08/80 | Cost: 0.36 | Train/Valid MSE.: 0.18/0.18 "
     ]
    },
    {
     "name": "stdout",
     "output_type": "stream",
     "text": [
      "0.22005\n"
     ]
    },
    {
     "name": "stderr",
     "output_type": "stream",
     "text": [
      "07/80 | Cost: 0.32 | Train/Valid MSE.: 0.17/0.17 "
     ]
    },
    {
     "name": "stdout",
     "output_type": "stream",
     "text": [
      "0.22505\n"
     ]
    },
    {
     "name": "stderr",
     "output_type": "stream",
     "text": [
      "08/80 | Cost: 0.43 | Train/Valid MSE.: 0.21/0.19 "
     ]
    },
    {
     "name": "stdout",
     "output_type": "stream",
     "text": [
      "0.23005\n"
     ]
    },
    {
     "name": "stderr",
     "output_type": "stream",
     "text": [
      "07/80 | Cost: 0.36 | Train/Valid MSE.: 0.18/0.18 "
     ]
    },
    {
     "name": "stdout",
     "output_type": "stream",
     "text": [
      "0.23504999999999998\n"
     ]
    },
    {
     "name": "stderr",
     "output_type": "stream",
     "text": [
      "07/80 | Cost: 0.36 | Train/Valid MSE.: 0.19/0.18 "
     ]
    },
    {
     "name": "stdout",
     "output_type": "stream",
     "text": [
      "0.24004999999999999\n"
     ]
    },
    {
     "name": "stderr",
     "output_type": "stream",
     "text": [
      "07/80 | Cost: 0.36 | Train/Valid MSE.: 0.16/0.16 "
     ]
    },
    {
     "name": "stdout",
     "output_type": "stream",
     "text": [
      "0.24505\n"
     ]
    },
    {
     "name": "stderr",
     "output_type": "stream",
     "text": [
      "80/80 | Cost: 0.26 | Train/Valid MSE.: 0.15/0.15 "
     ]
    }
   ],
   "source": [
    "mse_optim, mse_train, mse_valid = opti(scalar)"
   ]
  },
  {
   "cell_type": "code",
   "execution_count": 119,
   "id": "19f09ae1",
   "metadata": {},
   "outputs": [
    {
     "name": "stdout",
     "output_type": "stream",
     "text": [
      "minimum at eta =  0.03505 here mse is 0.011120942712490593\n"
     ]
    },
    {
     "data": {
      "image/png": "[encoded data removed]",
      "text/plain": [
       "<Figure size 1152x576 with 1 Axes>"
      ]
     },
     "metadata": {
      "needs_background": "light"
     },
     "output_type": "display_data"
    }
   ],
   "source": [
    "plt.figure(figsize=(16,8))\n",
    "plt.plot(eta*scalar, mse_optim, label='Cost function')\n",
    "plt.plot(eta*scalar, mse_train, label='MSE training')\n",
    "plt.plot(eta*scalar, mse_valid, label='MSE validation')\n",
    "plt.xlabel('Learning rate $\\eta$')\n",
    "plt.ylabel('Mean Square Error $\\sigma$')\n",
    "plt.legend()\n",
    "plt.grid()\n",
    "print('minimum at eta = ', eta*scalar[np.argmin(mse_optim)], 'here mse is', mse_train[np.argmin(mse_optim)])\n"
   ]
  },
  {
   "cell_type": "code",
   "execution_count": 141,
   "id": "ecdb03c8",
   "metadata": {
    "scrolled": true
   },
   "outputs": [
    {
     "name": "stderr",
     "output_type": "stream",
     "text": [
      "18/80 | Cost: 0.37 | Train/Valid MSE.: 0.37/0.37 "
     ]
    },
    {
     "name": "stdout",
     "output_type": "stream",
     "text": [
      "5e-05\n"
     ]
    },
    {
     "name": "stderr",
     "output_type": "stream",
     "text": [
      "18/80 | Cost: 0.11 | Train/Valid MSE.: 0.11/0.10 "
     ]
    },
    {
     "name": "stdout",
     "output_type": "stream",
     "text": [
      "0.00055\n"
     ]
    },
    {
     "name": "stderr",
     "output_type": "stream",
     "text": [
      "20/80 | Cost: 0.08 | Train/Valid MSE.: 0.07/0.07 "
     ]
    },
    {
     "name": "stdout",
     "output_type": "stream",
     "text": [
      "0.0010500000000000002\n"
     ]
    },
    {
     "name": "stderr",
     "output_type": "stream",
     "text": [
      "18/80 | Cost: 0.09 | Train/Valid MSE.: 0.08/0.08 "
     ]
    },
    {
     "name": "stdout",
     "output_type": "stream",
     "text": [
      "0.0015500000000000004\n"
     ]
    },
    {
     "name": "stderr",
     "output_type": "stream",
     "text": [
      "20/80 | Cost: 0.05 | Train/Valid MSE.: 0.04/0.04 "
     ]
    },
    {
     "name": "stdout",
     "output_type": "stream",
     "text": [
      "0.00205\n"
     ]
    },
    {
     "name": "stderr",
     "output_type": "stream",
     "text": [
      "19/80 | Cost: 0.07 | Train/Valid MSE.: 0.06/0.06 "
     ]
    },
    {
     "name": "stdout",
     "output_type": "stream",
     "text": [
      "0.00255\n"
     ]
    },
    {
     "name": "stderr",
     "output_type": "stream",
     "text": [
      "18/80 | Cost: 0.06 | Train/Valid MSE.: 0.05/0.05 "
     ]
    },
    {
     "name": "stdout",
     "output_type": "stream",
     "text": [
      "0.0030500000000000006\n"
     ]
    },
    {
     "name": "stderr",
     "output_type": "stream",
     "text": [
      "20/80 | Cost: 0.03 | Train/Valid MSE.: 0.02/0.02 "
     ]
    },
    {
     "name": "stdout",
     "output_type": "stream",
     "text": [
      "0.0035500000000000006\n"
     ]
    },
    {
     "name": "stderr",
     "output_type": "stream",
     "text": [
      "17/80 | Cost: 0.05 | Train/Valid MSE.: 0.04/0.04 "
     ]
    },
    {
     "name": "stdout",
     "output_type": "stream",
     "text": [
      "0.004050000000000001\n"
     ]
    },
    {
     "name": "stderr",
     "output_type": "stream",
     "text": [
      "11/80 | Cost: 0.05 | Train/Valid MSE.: 0.04/0.04 "
     ]
    },
    {
     "name": "stdout",
     "output_type": "stream",
     "text": [
      "0.00455\n"
     ]
    },
    {
     "name": "stderr",
     "output_type": "stream",
     "text": [
      "19/80 | Cost: 0.04 | Train/Valid MSE.: 0.03/0.03 "
     ]
    },
    {
     "name": "stdout",
     "output_type": "stream",
     "text": [
      "0.00505\n"
     ]
    },
    {
     "name": "stderr",
     "output_type": "stream",
     "text": [
      "19/80 | Cost: 0.03 | Train/Valid MSE.: 0.01/0.01 "
     ]
    },
    {
     "name": "stdout",
     "output_type": "stream",
     "text": [
      "0.00555\n"
     ]
    },
    {
     "name": "stderr",
     "output_type": "stream",
     "text": [
      "18/80 | Cost: 0.03 | Train/Valid MSE.: 0.02/0.02 "
     ]
    },
    {
     "name": "stdout",
     "output_type": "stream",
     "text": [
      "0.006050000000000001\n"
     ]
    },
    {
     "name": "stderr",
     "output_type": "stream",
     "text": [
      "20/80 | Cost: 0.03 | Train/Valid MSE.: 0.01/0.01 "
     ]
    },
    {
     "name": "stdout",
     "output_type": "stream",
     "text": [
      "0.00655\n"
     ]
    },
    {
     "name": "stderr",
     "output_type": "stream",
     "text": [
      "20/80 | Cost: 0.03 | Train/Valid MSE.: 0.01/0.01 "
     ]
    },
    {
     "name": "stdout",
     "output_type": "stream",
     "text": [
      "0.007050000000000001\n"
     ]
    },
    {
     "name": "stderr",
     "output_type": "stream",
     "text": [
      "18/80 | Cost: 0.03 | Train/Valid MSE.: 0.02/0.02 "
     ]
    },
    {
     "name": "stdout",
     "output_type": "stream",
     "text": [
      "0.00755\n"
     ]
    },
    {
     "name": "stderr",
     "output_type": "stream",
     "text": [
      "20/80 | Cost: 0.03 | Train/Valid MSE.: 0.01/0.01 "
     ]
    },
    {
     "name": "stdout",
     "output_type": "stream",
     "text": [
      "0.00805\n"
     ]
    },
    {
     "name": "stderr",
     "output_type": "stream",
     "text": [
      "19/80 | Cost: 0.05 | Train/Valid MSE.: 0.03/0.03 "
     ]
    },
    {
     "name": "stdout",
     "output_type": "stream",
     "text": [
      "0.00855\n"
     ]
    },
    {
     "name": "stderr",
     "output_type": "stream",
     "text": [
      "19/80 | Cost: 0.03 | Train/Valid MSE.: 0.01/0.01 "
     ]
    },
    {
     "name": "stdout",
     "output_type": "stream",
     "text": [
      "0.00905\n"
     ]
    },
    {
     "name": "stderr",
     "output_type": "stream",
     "text": [
      "20/80 | Cost: 0.03 | Train/Valid MSE.: 0.01/0.01 "
     ]
    },
    {
     "name": "stdout",
     "output_type": "stream",
     "text": [
      "0.009550000000000001\n"
     ]
    },
    {
     "name": "stderr",
     "output_type": "stream",
     "text": [
      "17/80 | Cost: 0.03 | Train/Valid MSE.: 0.01/0.01 "
     ]
    },
    {
     "name": "stdout",
     "output_type": "stream",
     "text": [
      "0.01005\n"
     ]
    },
    {
     "name": "stderr",
     "output_type": "stream",
     "text": [
      "18/80 | Cost: 0.03 | Train/Valid MSE.: 0.01/0.01 "
     ]
    },
    {
     "name": "stdout",
     "output_type": "stream",
     "text": [
      "0.01055\n"
     ]
    },
    {
     "name": "stderr",
     "output_type": "stream",
     "text": [
      "18/80 | Cost: 0.03 | Train/Valid MSE.: 0.01/0.01 "
     ]
    },
    {
     "name": "stdout",
     "output_type": "stream",
     "text": [
      "0.01105\n"
     ]
    },
    {
     "name": "stderr",
     "output_type": "stream",
     "text": [
      "16/80 | Cost: 0.03 | Train/Valid MSE.: 0.01/0.01 "
     ]
    },
    {
     "name": "stdout",
     "output_type": "stream",
     "text": [
      "0.011550000000000001\n"
     ]
    },
    {
     "name": "stderr",
     "output_type": "stream",
     "text": [
      "18/80 | Cost: 0.03 | Train/Valid MSE.: 0.01/0.01 "
     ]
    },
    {
     "name": "stdout",
     "output_type": "stream",
     "text": [
      "0.012050000000000002\n"
     ]
    },
    {
     "name": "stderr",
     "output_type": "stream",
     "text": [
      "18/80 | Cost: 0.03 | Train/Valid MSE.: 0.01/0.01 "
     ]
    },
    {
     "name": "stdout",
     "output_type": "stream",
     "text": [
      "0.012549999999999999\n"
     ]
    },
    {
     "name": "stderr",
     "output_type": "stream",
     "text": [
      "19/80 | Cost: 0.03 | Train/Valid MSE.: 0.01/0.01 "
     ]
    },
    {
     "name": "stdout",
     "output_type": "stream",
     "text": [
      "0.013049999999999999\n"
     ]
    },
    {
     "name": "stderr",
     "output_type": "stream",
     "text": [
      "19/80 | Cost: 0.03 | Train/Valid MSE.: 0.01/0.01 "
     ]
    },
    {
     "name": "stdout",
     "output_type": "stream",
     "text": [
      "0.01355\n"
     ]
    },
    {
     "name": "stderr",
     "output_type": "stream",
     "text": [
      "17/80 | Cost: 0.03 | Train/Valid MSE.: 0.01/0.01 "
     ]
    },
    {
     "name": "stdout",
     "output_type": "stream",
     "text": [
      "0.01405\n"
     ]
    },
    {
     "name": "stderr",
     "output_type": "stream",
     "text": [
      "17/80 | Cost: 0.03 | Train/Valid MSE.: 0.01/0.01 "
     ]
    },
    {
     "name": "stdout",
     "output_type": "stream",
     "text": [
      "0.01455\n"
     ]
    },
    {
     "name": "stderr",
     "output_type": "stream",
     "text": [
      "19/80 | Cost: 0.03 | Train/Valid MSE.: 0.01/0.01 "
     ]
    },
    {
     "name": "stdout",
     "output_type": "stream",
     "text": [
      "0.01505\n"
     ]
    },
    {
     "name": "stderr",
     "output_type": "stream",
     "text": [
      "16/80 | Cost: 0.03 | Train/Valid MSE.: 0.01/0.01 "
     ]
    },
    {
     "name": "stdout",
     "output_type": "stream",
     "text": [
      "0.01555\n"
     ]
    },
    {
     "name": "stderr",
     "output_type": "stream",
     "text": [
      "16/80 | Cost: 0.03 | Train/Valid MSE.: 0.01/0.01 "
     ]
    },
    {
     "name": "stdout",
     "output_type": "stream",
     "text": [
      "0.016050000000000002\n"
     ]
    },
    {
     "name": "stderr",
     "output_type": "stream",
     "text": [
      "18/80 | Cost: 0.03 | Train/Valid MSE.: 0.02/0.02 "
     ]
    },
    {
     "name": "stdout",
     "output_type": "stream",
     "text": [
      "0.016550000000000002\n"
     ]
    },
    {
     "name": "stderr",
     "output_type": "stream",
     "text": [
      "18/80 | Cost: 0.03 | Train/Valid MSE.: 0.01/0.01 "
     ]
    },
    {
     "name": "stdout",
     "output_type": "stream",
     "text": [
      "0.017050000000000003\n"
     ]
    },
    {
     "name": "stderr",
     "output_type": "stream",
     "text": [
      "17/80 | Cost: 0.03 | Train/Valid MSE.: 0.01/0.01 "
     ]
    },
    {
     "name": "stdout",
     "output_type": "stream",
     "text": [
      "0.01755\n"
     ]
    },
    {
     "name": "stderr",
     "output_type": "stream",
     "text": [
      "18/80 | Cost: 0.04 | Train/Valid MSE.: 0.02/0.02 "
     ]
    },
    {
     "name": "stdout",
     "output_type": "stream",
     "text": [
      "0.01805\n"
     ]
    },
    {
     "name": "stderr",
     "output_type": "stream",
     "text": [
      "14/80 | Cost: 0.03 | Train/Valid MSE.: 0.01/0.01 "
     ]
    },
    {
     "name": "stdout",
     "output_type": "stream",
     "text": [
      "0.01855\n"
     ]
    },
    {
     "name": "stderr",
     "output_type": "stream",
     "text": [
      "17/80 | Cost: 0.03 | Train/Valid MSE.: 0.01/0.01 "
     ]
    },
    {
     "name": "stdout",
     "output_type": "stream",
     "text": [
      "0.01905\n"
     ]
    },
    {
     "name": "stderr",
     "output_type": "stream",
     "text": [
      "19/80 | Cost: 0.03 | Train/Valid MSE.: 0.01/0.01 "
     ]
    },
    {
     "name": "stdout",
     "output_type": "stream",
     "text": [
      "0.01955\n"
     ]
    },
    {
     "name": "stderr",
     "output_type": "stream",
     "text": [
      "18/80 | Cost: 0.03 | Train/Valid MSE.: 0.01/0.01 "
     ]
    },
    {
     "name": "stdout",
     "output_type": "stream",
     "text": [
      "0.02005\n"
     ]
    },
    {
     "name": "stderr",
     "output_type": "stream",
     "text": [
      "19/80 | Cost: 0.03 | Train/Valid MSE.: 0.01/0.02 "
     ]
    },
    {
     "name": "stdout",
     "output_type": "stream",
     "text": [
      "0.020550000000000002\n"
     ]
    },
    {
     "name": "stderr",
     "output_type": "stream",
     "text": [
      "18/80 | Cost: 0.04 | Train/Valid MSE.: 0.02/0.02 "
     ]
    },
    {
     "name": "stdout",
     "output_type": "stream",
     "text": [
      "0.02105\n"
     ]
    },
    {
     "name": "stderr",
     "output_type": "stream",
     "text": [
      "18/80 | Cost: 0.03 | Train/Valid MSE.: 0.01/0.01 "
     ]
    },
    {
     "name": "stdout",
     "output_type": "stream",
     "text": [
      "0.02155\n"
     ]
    },
    {
     "name": "stderr",
     "output_type": "stream",
     "text": [
      "18/80 | Cost: 0.03 | Train/Valid MSE.: 0.01/0.01 "
     ]
    },
    {
     "name": "stdout",
     "output_type": "stream",
     "text": [
      "0.02205\n"
     ]
    },
    {
     "name": "stderr",
     "output_type": "stream",
     "text": [
      "17/80 | Cost: 0.03 | Train/Valid MSE.: 0.02/0.02 "
     ]
    },
    {
     "name": "stdout",
     "output_type": "stream",
     "text": [
      "0.02255\n"
     ]
    },
    {
     "name": "stderr",
     "output_type": "stream",
     "text": [
      "18/80 | Cost: 0.03 | Train/Valid MSE.: 0.01/0.01 "
     ]
    },
    {
     "name": "stdout",
     "output_type": "stream",
     "text": [
      "0.02305\n"
     ]
    },
    {
     "name": "stderr",
     "output_type": "stream",
     "text": [
      "19/80 | Cost: 0.03 | Train/Valid MSE.: 0.01/0.01 "
     ]
    },
    {
     "name": "stdout",
     "output_type": "stream",
     "text": [
      "0.02355\n"
     ]
    },
    {
     "name": "stderr",
     "output_type": "stream",
     "text": [
      "18/80 | Cost: 0.04 | Train/Valid MSE.: 0.02/0.02 "
     ]
    },
    {
     "name": "stdout",
     "output_type": "stream",
     "text": [
      "0.024050000000000002\n"
     ]
    },
    {
     "name": "stderr",
     "output_type": "stream",
     "text": [
      "17/80 | Cost: 0.03 | Train/Valid MSE.: 0.01/0.01 "
     ]
    },
    {
     "name": "stdout",
     "output_type": "stream",
     "text": [
      "0.024550000000000002\n"
     ]
    },
    {
     "name": "stderr",
     "output_type": "stream",
     "text": [
      "19/80 | Cost: 0.03 | Train/Valid MSE.: 0.02/0.02 "
     ]
    },
    {
     "name": "stdout",
     "output_type": "stream",
     "text": [
      "0.02505\n"
     ]
    },
    {
     "name": "stderr",
     "output_type": "stream",
     "text": [
      "18/80 | Cost: 0.03 | Train/Valid MSE.: 0.01/0.01 "
     ]
    },
    {
     "name": "stdout",
     "output_type": "stream",
     "text": [
      "0.025550000000000003\n"
     ]
    },
    {
     "name": "stderr",
     "output_type": "stream",
     "text": [
      "19/80 | Cost: 0.03 | Train/Valid MSE.: 0.02/0.02 "
     ]
    },
    {
     "name": "stdout",
     "output_type": "stream",
     "text": [
      "0.02605\n"
     ]
    },
    {
     "name": "stderr",
     "output_type": "stream",
     "text": [
      "18/80 | Cost: 0.03 | Train/Valid MSE.: 0.02/0.02 "
     ]
    },
    {
     "name": "stdout",
     "output_type": "stream",
     "text": [
      "0.026550000000000004\n"
     ]
    },
    {
     "name": "stderr",
     "output_type": "stream",
     "text": [
      "18/80 | Cost: 0.03 | Train/Valid MSE.: 0.01/0.01 "
     ]
    },
    {
     "name": "stdout",
     "output_type": "stream",
     "text": [
      "0.02705\n"
     ]
    },
    {
     "name": "stderr",
     "output_type": "stream",
     "text": [
      "16/80 | Cost: 0.03 | Train/Valid MSE.: 0.01/0.01 "
     ]
    },
    {
     "name": "stdout",
     "output_type": "stream",
     "text": [
      "0.027549999999999998\n"
     ]
    },
    {
     "name": "stderr",
     "output_type": "stream",
     "text": [
      "15/80 | Cost: 0.03 | Train/Valid MSE.: 0.01/0.01 "
     ]
    },
    {
     "name": "stdout",
     "output_type": "stream",
     "text": [
      "0.028050000000000002\n"
     ]
    },
    {
     "name": "stderr",
     "output_type": "stream",
     "text": [
      "19/80 | Cost: 0.03 | Train/Valid MSE.: 0.01/0.02 "
     ]
    },
    {
     "name": "stdout",
     "output_type": "stream",
     "text": [
      "0.02855\n"
     ]
    },
    {
     "name": "stderr",
     "output_type": "stream",
     "text": [
      "16/80 | Cost: 0.03 | Train/Valid MSE.: 0.01/0.01 "
     ]
    },
    {
     "name": "stdout",
     "output_type": "stream",
     "text": [
      "0.029050000000000003\n"
     ]
    },
    {
     "name": "stderr",
     "output_type": "stream",
     "text": [
      "15/80 | Cost: 0.03 | Train/Valid MSE.: 0.01/0.01 "
     ]
    },
    {
     "name": "stdout",
     "output_type": "stream",
     "text": [
      "0.02955\n"
     ]
    },
    {
     "name": "stderr",
     "output_type": "stream",
     "text": [
      "17/80 | Cost: 0.03 | Train/Valid MSE.: 0.01/0.01 "
     ]
    },
    {
     "name": "stdout",
     "output_type": "stream",
     "text": [
      "0.03005\n"
     ]
    },
    {
     "name": "stderr",
     "output_type": "stream",
     "text": [
      "16/80 | Cost: 0.03 | Train/Valid MSE.: 0.02/0.02 "
     ]
    },
    {
     "name": "stdout",
     "output_type": "stream",
     "text": [
      "0.03055\n"
     ]
    },
    {
     "name": "stderr",
     "output_type": "stream",
     "text": [
      "18/80 | Cost: 0.03 | Train/Valid MSE.: 0.01/0.01 "
     ]
    },
    {
     "name": "stdout",
     "output_type": "stream",
     "text": [
      "0.03105\n"
     ]
    },
    {
     "name": "stderr",
     "output_type": "stream",
     "text": [
      "17/80 | Cost: 0.03 | Train/Valid MSE.: 0.01/0.01 "
     ]
    },
    {
     "name": "stdout",
     "output_type": "stream",
     "text": [
      "0.03155\n"
     ]
    },
    {
     "name": "stderr",
     "output_type": "stream",
     "text": [
      "18/80 | Cost: 0.02 | Train/Valid MSE.: 0.01/0.01 "
     ]
    },
    {
     "name": "stdout",
     "output_type": "stream",
     "text": [
      "0.03205\n"
     ]
    },
    {
     "name": "stderr",
     "output_type": "stream",
     "text": [
      "18/80 | Cost: 0.03 | Train/Valid MSE.: 0.01/0.01 "
     ]
    },
    {
     "name": "stdout",
     "output_type": "stream",
     "text": [
      "0.03255\n"
     ]
    },
    {
     "name": "stderr",
     "output_type": "stream",
     "text": [
      "16/80 | Cost: 0.04 | Train/Valid MSE.: 0.02/0.02 "
     ]
    },
    {
     "name": "stdout",
     "output_type": "stream",
     "text": [
      "0.03305\n"
     ]
    },
    {
     "name": "stderr",
     "output_type": "stream",
     "text": [
      "18/80 | Cost: 0.03 | Train/Valid MSE.: 0.02/0.02 "
     ]
    },
    {
     "name": "stdout",
     "output_type": "stream",
     "text": [
      "0.03355\n"
     ]
    },
    {
     "name": "stderr",
     "output_type": "stream",
     "text": [
      "12/80 | Cost: 0.03 | Train/Valid MSE.: 0.01/0.01 "
     ]
    },
    {
     "name": "stdout",
     "output_type": "stream",
     "text": [
      "0.034050000000000004\n"
     ]
    },
    {
     "name": "stderr",
     "output_type": "stream",
     "text": [
      "18/80 | Cost: 0.03 | Train/Valid MSE.: 0.01/0.01 "
     ]
    },
    {
     "name": "stdout",
     "output_type": "stream",
     "text": [
      "0.034550000000000004\n"
     ]
    },
    {
     "name": "stderr",
     "output_type": "stream",
     "text": [
      "17/80 | Cost: 0.03 | Train/Valid MSE.: 0.01/0.01 "
     ]
    },
    {
     "name": "stdout",
     "output_type": "stream",
     "text": [
      "0.03505\n"
     ]
    },
    {
     "name": "stderr",
     "output_type": "stream",
     "text": [
      "16/80 | Cost: 0.03 | Train/Valid MSE.: 0.01/0.01 "
     ]
    },
    {
     "name": "stdout",
     "output_type": "stream",
     "text": [
      "0.035550000000000005\n"
     ]
    },
    {
     "name": "stderr",
     "output_type": "stream",
     "text": [
      "17/80 | Cost: 0.03 | Train/Valid MSE.: 0.01/0.01 "
     ]
    },
    {
     "name": "stdout",
     "output_type": "stream",
     "text": [
      "0.03605\n"
     ]
    },
    {
     "name": "stderr",
     "output_type": "stream",
     "text": [
      "17/80 | Cost: 0.03 | Train/Valid MSE.: 0.01/0.01 "
     ]
    },
    {
     "name": "stdout",
     "output_type": "stream",
     "text": [
      "0.036550000000000006\n"
     ]
    },
    {
     "name": "stderr",
     "output_type": "stream",
     "text": [
      "17/80 | Cost: 0.03 | Train/Valid MSE.: 0.01/0.01 "
     ]
    },
    {
     "name": "stdout",
     "output_type": "stream",
     "text": [
      "0.03705\n"
     ]
    },
    {
     "name": "stderr",
     "output_type": "stream",
     "text": [
      "18/80 | Cost: 0.03 | Train/Valid MSE.: 0.01/0.01 "
     ]
    },
    {
     "name": "stdout",
     "output_type": "stream",
     "text": [
      "0.03755\n"
     ]
    },
    {
     "name": "stderr",
     "output_type": "stream",
     "text": [
      "18/80 | Cost: 0.03 | Train/Valid MSE.: 0.01/0.01 "
     ]
    },
    {
     "name": "stdout",
     "output_type": "stream",
     "text": [
      "0.03805\n"
     ]
    },
    {
     "name": "stderr",
     "output_type": "stream",
     "text": [
      "17/80 | Cost: 0.03 | Train/Valid MSE.: 0.01/0.01 "
     ]
    },
    {
     "name": "stdout",
     "output_type": "stream",
     "text": [
      "0.03855\n"
     ]
    },
    {
     "name": "stderr",
     "output_type": "stream",
     "text": [
      "18/80 | Cost: 0.03 | Train/Valid MSE.: 0.01/0.01 "
     ]
    },
    {
     "name": "stdout",
     "output_type": "stream",
     "text": [
      "0.03905\n"
     ]
    },
    {
     "name": "stderr",
     "output_type": "stream",
     "text": [
      "17/80 | Cost: 0.03 | Train/Valid MSE.: 0.01/0.01 "
     ]
    },
    {
     "name": "stdout",
     "output_type": "stream",
     "text": [
      "0.03955\n"
     ]
    },
    {
     "name": "stderr",
     "output_type": "stream",
     "text": [
      "18/80 | Cost: 0.03 | Train/Valid MSE.: 0.01/0.01 "
     ]
    },
    {
     "name": "stdout",
     "output_type": "stream",
     "text": [
      "0.04005\n"
     ]
    },
    {
     "name": "stderr",
     "output_type": "stream",
     "text": [
      "17/80 | Cost: 0.03 | Train/Valid MSE.: 0.02/0.02 "
     ]
    },
    {
     "name": "stdout",
     "output_type": "stream",
     "text": [
      "0.040549999999999996\n"
     ]
    },
    {
     "name": "stderr",
     "output_type": "stream",
     "text": [
      "17/80 | Cost: 0.03 | Train/Valid MSE.: 0.01/0.01 "
     ]
    },
    {
     "name": "stdout",
     "output_type": "stream",
     "text": [
      "0.04105\n"
     ]
    },
    {
     "name": "stderr",
     "output_type": "stream",
     "text": [
      "17/80 | Cost: 0.03 | Train/Valid MSE.: 0.01/0.01 "
     ]
    },
    {
     "name": "stdout",
     "output_type": "stream",
     "text": [
      "0.041550000000000004\n"
     ]
    },
    {
     "name": "stderr",
     "output_type": "stream",
     "text": [
      "13/80 | Cost: 0.03 | Train/Valid MSE.: 0.01/0.01 "
     ]
    },
    {
     "name": "stdout",
     "output_type": "stream",
     "text": [
      "0.042050000000000004\n"
     ]
    },
    {
     "name": "stderr",
     "output_type": "stream",
     "text": [
      "16/80 | Cost: 0.03 | Train/Valid MSE.: 0.02/0.02 "
     ]
    },
    {
     "name": "stdout",
     "output_type": "stream",
     "text": [
      "0.04255\n"
     ]
    },
    {
     "name": "stderr",
     "output_type": "stream",
     "text": [
      "17/80 | Cost: 0.03 | Train/Valid MSE.: 0.01/0.01 "
     ]
    },
    {
     "name": "stdout",
     "output_type": "stream",
     "text": [
      "0.04305\n"
     ]
    },
    {
     "name": "stderr",
     "output_type": "stream",
     "text": [
      "17/80 | Cost: 0.03 | Train/Valid MSE.: 0.01/0.01 "
     ]
    },
    {
     "name": "stdout",
     "output_type": "stream",
     "text": [
      "0.043550000000000005\n"
     ]
    },
    {
     "name": "stderr",
     "output_type": "stream",
     "text": [
      "16/80 | Cost: 0.03 | Train/Valid MSE.: 0.02/0.02 "
     ]
    },
    {
     "name": "stdout",
     "output_type": "stream",
     "text": [
      "0.044050000000000006\n"
     ]
    },
    {
     "name": "stderr",
     "output_type": "stream",
     "text": [
      "15/80 | Cost: 0.03 | Train/Valid MSE.: 0.01/0.01 "
     ]
    },
    {
     "name": "stdout",
     "output_type": "stream",
     "text": [
      "0.04455\n"
     ]
    },
    {
     "name": "stderr",
     "output_type": "stream",
     "text": [
      "18/80 | Cost: 0.03 | Train/Valid MSE.: 0.01/0.01 "
     ]
    },
    {
     "name": "stdout",
     "output_type": "stream",
     "text": [
      "0.04505\n"
     ]
    },
    {
     "name": "stderr",
     "output_type": "stream",
     "text": [
      "18/80 | Cost: 0.03 | Train/Valid MSE.: 0.02/0.02 "
     ]
    },
    {
     "name": "stdout",
     "output_type": "stream",
     "text": [
      "0.04555\n"
     ]
    },
    {
     "name": "stderr",
     "output_type": "stream",
     "text": [
      "16/80 | Cost: 0.03 | Train/Valid MSE.: 0.01/0.02 "
     ]
    },
    {
     "name": "stdout",
     "output_type": "stream",
     "text": [
      "0.04605000000000001\n"
     ]
    },
    {
     "name": "stderr",
     "output_type": "stream",
     "text": [
      "17/80 | Cost: 0.03 | Train/Valid MSE.: 0.01/0.02 "
     ]
    },
    {
     "name": "stdout",
     "output_type": "stream",
     "text": [
      "0.04655\n"
     ]
    },
    {
     "name": "stderr",
     "output_type": "stream",
     "text": [
      "16/80 | Cost: 0.03 | Train/Valid MSE.: 0.02/0.02 "
     ]
    },
    {
     "name": "stdout",
     "output_type": "stream",
     "text": [
      "0.04705\n"
     ]
    },
    {
     "name": "stderr",
     "output_type": "stream",
     "text": [
      "18/80 | Cost: 0.03 | Train/Valid MSE.: 0.02/0.02 "
     ]
    },
    {
     "name": "stdout",
     "output_type": "stream",
     "text": [
      "0.04755\n"
     ]
    },
    {
     "name": "stderr",
     "output_type": "stream",
     "text": [
      "18/80 | Cost: 0.03 | Train/Valid MSE.: 0.01/0.01 "
     ]
    },
    {
     "name": "stdout",
     "output_type": "stream",
     "text": [
      "0.04805000000000001\n"
     ]
    },
    {
     "name": "stderr",
     "output_type": "stream",
     "text": [
      "17/80 | Cost: 0.03 | Train/Valid MSE.: 0.01/0.01 "
     ]
    },
    {
     "name": "stdout",
     "output_type": "stream",
     "text": [
      "0.04855\n"
     ]
    },
    {
     "name": "stderr",
     "output_type": "stream",
     "text": [
      "16/80 | Cost: 0.04 | Train/Valid MSE.: 0.03/0.03 "
     ]
    },
    {
     "name": "stdout",
     "output_type": "stream",
     "text": [
      "0.04905\n"
     ]
    },
    {
     "name": "stderr",
     "output_type": "stream",
     "text": [
      "16/80 | Cost: 0.03 | Train/Valid MSE.: 0.01/0.01 "
     ]
    },
    {
     "name": "stdout",
     "output_type": "stream",
     "text": [
      "0.049550000000000004\n"
     ]
    },
    {
     "name": "stderr",
     "output_type": "stream",
     "text": [
      "16/80 | Cost: 0.03 | Train/Valid MSE.: 0.01/0.01 "
     ]
    },
    {
     "name": "stdout",
     "output_type": "stream",
     "text": [
      "0.05005\n"
     ]
    },
    {
     "name": "stderr",
     "output_type": "stream",
     "text": [
      "16/80 | Cost: 0.03 | Train/Valid MSE.: 0.01/0.01 "
     ]
    },
    {
     "name": "stdout",
     "output_type": "stream",
     "text": [
      "0.050550000000000005\n"
     ]
    },
    {
     "name": "stderr",
     "output_type": "stream",
     "text": [
      "17/80 | Cost: 0.03 | Train/Valid MSE.: 0.01/0.01 "
     ]
    },
    {
     "name": "stdout",
     "output_type": "stream",
     "text": [
      "0.051050000000000005\n"
     ]
    },
    {
     "name": "stderr",
     "output_type": "stream",
     "text": [
      "16/80 | Cost: 0.03 | Train/Valid MSE.: 0.01/0.01 "
     ]
    },
    {
     "name": "stdout",
     "output_type": "stream",
     "text": [
      "0.051550000000000006\n"
     ]
    },
    {
     "name": "stderr",
     "output_type": "stream",
     "text": [
      "16/80 | Cost: 0.03 | Train/Valid MSE.: 0.01/0.02 "
     ]
    },
    {
     "name": "stdout",
     "output_type": "stream",
     "text": [
      "0.05205\n"
     ]
    },
    {
     "name": "stderr",
     "output_type": "stream",
     "text": [
      "16/80 | Cost: 0.03 | Train/Valid MSE.: 0.01/0.01 "
     ]
    },
    {
     "name": "stdout",
     "output_type": "stream",
     "text": [
      "0.05255\n"
     ]
    },
    {
     "name": "stderr",
     "output_type": "stream",
     "text": [
      "17/80 | Cost: 0.03 | Train/Valid MSE.: 0.01/0.01 "
     ]
    },
    {
     "name": "stdout",
     "output_type": "stream",
     "text": [
      "0.05305000000000001\n"
     ]
    },
    {
     "name": "stderr",
     "output_type": "stream",
     "text": [
      "17/80 | Cost: 0.03 | Train/Valid MSE.: 0.01/0.01 "
     ]
    },
    {
     "name": "stdout",
     "output_type": "stream",
     "text": [
      "0.05355000000000001\n"
     ]
    },
    {
     "name": "stderr",
     "output_type": "stream",
     "text": [
      "17/80 | Cost: 0.05 | Train/Valid MSE.: 0.03/0.03 "
     ]
    },
    {
     "name": "stdout",
     "output_type": "stream",
     "text": [
      "0.05405\n"
     ]
    },
    {
     "name": "stderr",
     "output_type": "stream",
     "text": [
      "16/80 | Cost: 0.03 | Train/Valid MSE.: 0.01/0.01 "
     ]
    },
    {
     "name": "stdout",
     "output_type": "stream",
     "text": [
      "0.05455\n"
     ]
    },
    {
     "name": "stderr",
     "output_type": "stream",
     "text": [
      "18/80 | Cost: 0.03 | Train/Valid MSE.: 0.01/0.01 "
     ]
    },
    {
     "name": "stdout",
     "output_type": "stream",
     "text": [
      "0.05505\n"
     ]
    },
    {
     "name": "stderr",
     "output_type": "stream",
     "text": [
      "18/80 | Cost: 0.04 | Train/Valid MSE.: 0.02/0.02 "
     ]
    },
    {
     "name": "stdout",
     "output_type": "stream",
     "text": [
      "0.05555000000000001\n"
     ]
    },
    {
     "name": "stderr",
     "output_type": "stream",
     "text": [
      "18/80 | Cost: 0.03 | Train/Valid MSE.: 0.01/0.01 "
     ]
    },
    {
     "name": "stdout",
     "output_type": "stream",
     "text": [
      "0.05605\n"
     ]
    },
    {
     "name": "stderr",
     "output_type": "stream",
     "text": [
      "16/80 | Cost: 0.03 | Train/Valid MSE.: 0.01/0.01 "
     ]
    },
    {
     "name": "stdout",
     "output_type": "stream",
     "text": [
      "0.05655\n"
     ]
    },
    {
     "name": "stderr",
     "output_type": "stream",
     "text": [
      "17/80 | Cost: 0.03 | Train/Valid MSE.: 0.01/0.02 "
     ]
    },
    {
     "name": "stdout",
     "output_type": "stream",
     "text": [
      "0.057050000000000003\n"
     ]
    },
    {
     "name": "stderr",
     "output_type": "stream",
     "text": [
      "17/80 | Cost: 0.03 | Train/Valid MSE.: 0.02/0.02 "
     ]
    },
    {
     "name": "stdout",
     "output_type": "stream",
     "text": [
      "0.05755\n"
     ]
    },
    {
     "name": "stderr",
     "output_type": "stream",
     "text": [
      "15/80 | Cost: 0.03 | Train/Valid MSE.: 0.02/0.02 "
     ]
    },
    {
     "name": "stdout",
     "output_type": "stream",
     "text": [
      "0.058050000000000004\n"
     ]
    },
    {
     "name": "stderr",
     "output_type": "stream",
     "text": [
      "17/80 | Cost: 0.03 | Train/Valid MSE.: 0.02/0.02 "
     ]
    },
    {
     "name": "stdout",
     "output_type": "stream",
     "text": [
      "0.058550000000000005\n"
     ]
    },
    {
     "name": "stderr",
     "output_type": "stream",
     "text": [
      "18/80 | Cost: 0.03 | Train/Valid MSE.: 0.02/0.02 "
     ]
    },
    {
     "name": "stdout",
     "output_type": "stream",
     "text": [
      "0.059050000000000005\n"
     ]
    },
    {
     "name": "stderr",
     "output_type": "stream",
     "text": [
      "18/80 | Cost: 0.03 | Train/Valid MSE.: 0.01/0.01 "
     ]
    },
    {
     "name": "stdout",
     "output_type": "stream",
     "text": [
      "0.05955\n"
     ]
    },
    {
     "name": "stderr",
     "output_type": "stream",
     "text": [
      "17/80 | Cost: 0.03 | Train/Valid MSE.: 0.01/0.01 "
     ]
    },
    {
     "name": "stdout",
     "output_type": "stream",
     "text": [
      "0.06005\n"
     ]
    },
    {
     "name": "stderr",
     "output_type": "stream",
     "text": [
      "16/80 | Cost: 0.03 | Train/Valid MSE.: 0.01/0.01 "
     ]
    },
    {
     "name": "stdout",
     "output_type": "stream",
     "text": [
      "0.06055000000000001\n"
     ]
    },
    {
     "name": "stderr",
     "output_type": "stream",
     "text": [
      "15/80 | Cost: 0.04 | Train/Valid MSE.: 0.02/0.02 "
     ]
    },
    {
     "name": "stdout",
     "output_type": "stream",
     "text": [
      "0.06105000000000001\n"
     ]
    },
    {
     "name": "stderr",
     "output_type": "stream",
     "text": [
      "16/80 | Cost: 0.04 | Train/Valid MSE.: 0.02/0.02 "
     ]
    },
    {
     "name": "stdout",
     "output_type": "stream",
     "text": [
      "0.06155\n"
     ]
    },
    {
     "name": "stderr",
     "output_type": "stream",
     "text": [
      "18/80 | Cost: 0.03 | Train/Valid MSE.: 0.01/0.01 "
     ]
    },
    {
     "name": "stdout",
     "output_type": "stream",
     "text": [
      "0.06205\n"
     ]
    },
    {
     "name": "stderr",
     "output_type": "stream",
     "text": [
      "16/80 | Cost: 0.03 | Train/Valid MSE.: 0.02/0.02 "
     ]
    },
    {
     "name": "stdout",
     "output_type": "stream",
     "text": [
      "0.06255\n"
     ]
    },
    {
     "name": "stderr",
     "output_type": "stream",
     "text": [
      "14/80 | Cost: 0.04 | Train/Valid MSE.: 0.02/0.02 "
     ]
    },
    {
     "name": "stdout",
     "output_type": "stream",
     "text": [
      "0.06305000000000001\n"
     ]
    },
    {
     "name": "stderr",
     "output_type": "stream",
     "text": [
      "17/80 | Cost: 0.06 | Train/Valid MSE.: 0.04/0.04 "
     ]
    },
    {
     "name": "stdout",
     "output_type": "stream",
     "text": [
      "0.06355000000000001\n"
     ]
    },
    {
     "name": "stderr",
     "output_type": "stream",
     "text": [
      "15/80 | Cost: 0.05 | Train/Valid MSE.: 0.02/0.02 "
     ]
    },
    {
     "name": "stdout",
     "output_type": "stream",
     "text": [
      "0.06405000000000001\n"
     ]
    },
    {
     "name": "stderr",
     "output_type": "stream",
     "text": [
      "18/80 | Cost: 0.03 | Train/Valid MSE.: 0.01/0.01 "
     ]
    },
    {
     "name": "stdout",
     "output_type": "stream",
     "text": [
      "0.06455\n"
     ]
    },
    {
     "name": "stderr",
     "output_type": "stream",
     "text": [
      "18/80 | Cost: 0.03 | Train/Valid MSE.: 0.01/0.01 "
     ]
    },
    {
     "name": "stdout",
     "output_type": "stream",
     "text": [
      "0.06505\n"
     ]
    },
    {
     "name": "stderr",
     "output_type": "stream",
     "text": [
      "17/80 | Cost: 0.03 | Train/Valid MSE.: 0.01/0.01 "
     ]
    },
    {
     "name": "stdout",
     "output_type": "stream",
     "text": [
      "0.06555000000000001\n"
     ]
    },
    {
     "name": "stderr",
     "output_type": "stream",
     "text": [
      "14/80 | Cost: 0.03 | Train/Valid MSE.: 0.01/0.02 "
     ]
    },
    {
     "name": "stdout",
     "output_type": "stream",
     "text": [
      "0.06605000000000001\n"
     ]
    },
    {
     "name": "stderr",
     "output_type": "stream",
     "text": [
      "14/80 | Cost: 0.04 | Train/Valid MSE.: 0.02/0.02 "
     ]
    },
    {
     "name": "stdout",
     "output_type": "stream",
     "text": [
      "0.06655\n"
     ]
    },
    {
     "name": "stderr",
     "output_type": "stream",
     "text": [
      "15/80 | Cost: 0.04 | Train/Valid MSE.: 0.01/0.02 "
     ]
    },
    {
     "name": "stdout",
     "output_type": "stream",
     "text": [
      "0.06705\n"
     ]
    },
    {
     "name": "stderr",
     "output_type": "stream",
     "text": [
      "17/80 | Cost: 0.05 | Train/Valid MSE.: 0.02/0.02 "
     ]
    },
    {
     "name": "stdout",
     "output_type": "stream",
     "text": [
      "0.06755\n"
     ]
    },
    {
     "name": "stderr",
     "output_type": "stream",
     "text": [
      "15/80 | Cost: 0.03 | Train/Valid MSE.: 0.01/0.01 "
     ]
    },
    {
     "name": "stdout",
     "output_type": "stream",
     "text": [
      "0.06805000000000001\n"
     ]
    },
    {
     "name": "stderr",
     "output_type": "stream",
     "text": [
      "16/80 | Cost: 0.06 | Train/Valid MSE.: 0.04/0.04 "
     ]
    },
    {
     "name": "stdout",
     "output_type": "stream",
     "text": [
      "0.06855\n"
     ]
    },
    {
     "name": "stderr",
     "output_type": "stream",
     "text": [
      "18/80 | Cost: 0.04 | Train/Valid MSE.: 0.01/0.01 "
     ]
    },
    {
     "name": "stdout",
     "output_type": "stream",
     "text": [
      "0.06905\n"
     ]
    },
    {
     "name": "stderr",
     "output_type": "stream",
     "text": [
      "16/80 | Cost: 0.05 | Train/Valid MSE.: 0.04/0.04 "
     ]
    },
    {
     "name": "stdout",
     "output_type": "stream",
     "text": [
      "0.06955\n"
     ]
    },
    {
     "name": "stderr",
     "output_type": "stream",
     "text": [
      "17/80 | Cost: 0.03 | Train/Valid MSE.: 0.01/0.01 "
     ]
    },
    {
     "name": "stdout",
     "output_type": "stream",
     "text": [
      "0.07005\n"
     ]
    },
    {
     "name": "stderr",
     "output_type": "stream",
     "text": [
      "16/80 | Cost: 0.05 | Train/Valid MSE.: 0.03/0.03 "
     ]
    },
    {
     "name": "stdout",
     "output_type": "stream",
     "text": [
      "0.07055\n"
     ]
    },
    {
     "name": "stderr",
     "output_type": "stream",
     "text": [
      "17/80 | Cost: 0.03 | Train/Valid MSE.: 0.01/0.01 "
     ]
    },
    {
     "name": "stdout",
     "output_type": "stream",
     "text": [
      "0.07105\n"
     ]
    },
    {
     "name": "stderr",
     "output_type": "stream",
     "text": [
      "17/80 | Cost: 0.03 | Train/Valid MSE.: 0.01/0.02 "
     ]
    },
    {
     "name": "stdout",
     "output_type": "stream",
     "text": [
      "0.07155\n"
     ]
    },
    {
     "name": "stderr",
     "output_type": "stream",
     "text": [
      "17/80 | Cost: 0.04 | Train/Valid MSE.: 0.02/0.02 "
     ]
    },
    {
     "name": "stdout",
     "output_type": "stream",
     "text": [
      "0.07205\n"
     ]
    },
    {
     "name": "stderr",
     "output_type": "stream",
     "text": [
      "17/80 | Cost: 0.04 | Train/Valid MSE.: 0.02/0.02 "
     ]
    },
    {
     "name": "stdout",
     "output_type": "stream",
     "text": [
      "0.07255\n"
     ]
    },
    {
     "name": "stderr",
     "output_type": "stream",
     "text": [
      "15/80 | Cost: 0.04 | Train/Valid MSE.: 0.01/0.01 "
     ]
    },
    {
     "name": "stdout",
     "output_type": "stream",
     "text": [
      "0.07305\n"
     ]
    },
    {
     "name": "stderr",
     "output_type": "stream",
     "text": [
      "13/80 | Cost: 0.04 | Train/Valid MSE.: 0.02/0.02 "
     ]
    },
    {
     "name": "stdout",
     "output_type": "stream",
     "text": [
      "0.07355\n"
     ]
    },
    {
     "name": "stderr",
     "output_type": "stream",
     "text": [
      "17/80 | Cost: 0.03 | Train/Valid MSE.: 0.01/0.01 "
     ]
    },
    {
     "name": "stdout",
     "output_type": "stream",
     "text": [
      "0.07405\n"
     ]
    },
    {
     "name": "stderr",
     "output_type": "stream",
     "text": [
      "18/80 | Cost: 0.04 | Train/Valid MSE.: 0.02/0.02 "
     ]
    },
    {
     "name": "stdout",
     "output_type": "stream",
     "text": [
      "0.07455\n"
     ]
    },
    {
     "name": "stderr",
     "output_type": "stream",
     "text": [
      "16/80 | Cost: 0.04 | Train/Valid MSE.: 0.02/0.02 "
     ]
    },
    {
     "name": "stdout",
     "output_type": "stream",
     "text": [
      "0.07505\n"
     ]
    },
    {
     "name": "stderr",
     "output_type": "stream",
     "text": [
      "16/80 | Cost: 0.04 | Train/Valid MSE.: 0.02/0.02 "
     ]
    },
    {
     "name": "stdout",
     "output_type": "stream",
     "text": [
      "0.07555\n"
     ]
    },
    {
     "name": "stderr",
     "output_type": "stream",
     "text": [
      "17/80 | Cost: 0.05 | Train/Valid MSE.: 0.03/0.03 "
     ]
    },
    {
     "name": "stdout",
     "output_type": "stream",
     "text": [
      "0.07605\n"
     ]
    },
    {
     "name": "stderr",
     "output_type": "stream",
     "text": [
      "13/80 | Cost: 0.05 | Train/Valid MSE.: 0.03/0.03 "
     ]
    },
    {
     "name": "stdout",
     "output_type": "stream",
     "text": [
      "0.07655\n"
     ]
    },
    {
     "name": "stderr",
     "output_type": "stream",
     "text": [
      "16/80 | Cost: 0.05 | Train/Valid MSE.: 0.03/0.03 "
     ]
    },
    {
     "name": "stdout",
     "output_type": "stream",
     "text": [
      "0.07705000000000001\n"
     ]
    },
    {
     "name": "stderr",
     "output_type": "stream",
     "text": [
      "16/80 | Cost: 0.04 | Train/Valid MSE.: 0.02/0.02 "
     ]
    },
    {
     "name": "stdout",
     "output_type": "stream",
     "text": [
      "0.07755\n"
     ]
    },
    {
     "name": "stderr",
     "output_type": "stream",
     "text": [
      "17/80 | Cost: 0.05 | Train/Valid MSE.: 0.02/0.02 "
     ]
    },
    {
     "name": "stdout",
     "output_type": "stream",
     "text": [
      "0.07805000000000001\n"
     ]
    },
    {
     "name": "stderr",
     "output_type": "stream",
     "text": [
      "17/80 | Cost: 0.04 | Train/Valid MSE.: 0.01/0.01 "
     ]
    },
    {
     "name": "stdout",
     "output_type": "stream",
     "text": [
      "0.07855000000000001\n"
     ]
    },
    {
     "name": "stderr",
     "output_type": "stream",
     "text": [
      "16/80 | Cost: 0.05 | Train/Valid MSE.: 0.02/0.02 "
     ]
    },
    {
     "name": "stdout",
     "output_type": "stream",
     "text": [
      "0.07905000000000001\n"
     ]
    },
    {
     "name": "stderr",
     "output_type": "stream",
     "text": [
      "14/80 | Cost: 0.04 | Train/Valid MSE.: 0.01/0.01 "
     ]
    },
    {
     "name": "stdout",
     "output_type": "stream",
     "text": [
      "0.07955\n"
     ]
    },
    {
     "name": "stderr",
     "output_type": "stream",
     "text": [
      "17/80 | Cost: 0.03 | Train/Valid MSE.: 0.01/0.01 "
     ]
    },
    {
     "name": "stdout",
     "output_type": "stream",
     "text": [
      "0.08005000000000001\n"
     ]
    },
    {
     "name": "stderr",
     "output_type": "stream",
     "text": [
      "16/80 | Cost: 0.04 | Train/Valid MSE.: 0.01/0.01 "
     ]
    },
    {
     "name": "stdout",
     "output_type": "stream",
     "text": [
      "0.08055000000000001\n"
     ]
    },
    {
     "name": "stderr",
     "output_type": "stream",
     "text": [
      "16/80 | Cost: 0.05 | Train/Valid MSE.: 0.02/0.02 "
     ]
    },
    {
     "name": "stdout",
     "output_type": "stream",
     "text": [
      "0.08105000000000001\n"
     ]
    },
    {
     "name": "stderr",
     "output_type": "stream",
     "text": [
      "17/80 | Cost: 0.05 | Train/Valid MSE.: 0.03/0.03 "
     ]
    },
    {
     "name": "stdout",
     "output_type": "stream",
     "text": [
      "0.08155000000000001\n"
     ]
    },
    {
     "name": "stderr",
     "output_type": "stream",
     "text": [
      "17/80 | Cost: 0.05 | Train/Valid MSE.: 0.03/0.03 "
     ]
    },
    {
     "name": "stdout",
     "output_type": "stream",
     "text": [
      "0.08205000000000003\n"
     ]
    },
    {
     "name": "stderr",
     "output_type": "stream",
     "text": [
      "16/80 | Cost: 0.05 | Train/Valid MSE.: 0.02/0.02 "
     ]
    },
    {
     "name": "stdout",
     "output_type": "stream",
     "text": [
      "0.08255000000000001\n"
     ]
    },
    {
     "name": "stderr",
     "output_type": "stream",
     "text": [
      "16/80 | Cost: 0.05 | Train/Valid MSE.: 0.02/0.02 "
     ]
    },
    {
     "name": "stdout",
     "output_type": "stream",
     "text": [
      "0.08305000000000001\n"
     ]
    },
    {
     "name": "stderr",
     "output_type": "stream",
     "text": [
      "13/80 | Cost: 0.04 | Train/Valid MSE.: 0.02/0.02 "
     ]
    },
    {
     "name": "stdout",
     "output_type": "stream",
     "text": [
      "0.08355\n"
     ]
    },
    {
     "name": "stderr",
     "output_type": "stream",
     "text": [
      "15/80 | Cost: 0.03 | Train/Valid MSE.: 0.01/0.01 "
     ]
    },
    {
     "name": "stdout",
     "output_type": "stream",
     "text": [
      "0.08405000000000001\n"
     ]
    },
    {
     "name": "stderr",
     "output_type": "stream",
     "text": [
      "13/80 | Cost: 0.19 | Train/Valid MSE.: 0.17/0.17 "
     ]
    },
    {
     "name": "stdout",
     "output_type": "stream",
     "text": [
      "0.08455000000000001\n"
     ]
    },
    {
     "name": "stderr",
     "output_type": "stream",
     "text": [
      "15/80 | Cost: 0.17 | Train/Valid MSE.: 0.15/0.15 "
     ]
    },
    {
     "name": "stdout",
     "output_type": "stream",
     "text": [
      "0.08505000000000001\n"
     ]
    },
    {
     "name": "stderr",
     "output_type": "stream",
     "text": [
      "15/80 | Cost: 0.05 | Train/Valid MSE.: 0.02/0.02 "
     ]
    },
    {
     "name": "stdout",
     "output_type": "stream",
     "text": [
      "0.08555000000000001\n"
     ]
    },
    {
     "name": "stderr",
     "output_type": "stream",
     "text": [
      "13/80 | Cost: 0.19 | Train/Valid MSE.: 0.17/0.17 "
     ]
    },
    {
     "name": "stdout",
     "output_type": "stream",
     "text": [
      "0.08605\n"
     ]
    },
    {
     "name": "stderr",
     "output_type": "stream",
     "text": [
      "16/80 | Cost: 0.06 | Train/Valid MSE.: 0.04/0.04 "
     ]
    },
    {
     "name": "stdout",
     "output_type": "stream",
     "text": [
      "0.08655000000000002\n"
     ]
    },
    {
     "name": "stderr",
     "output_type": "stream",
     "text": [
      "16/80 | Cost: 0.04 | Train/Valid MSE.: 0.01/0.01 "
     ]
    },
    {
     "name": "stdout",
     "output_type": "stream",
     "text": [
      "0.08705000000000002\n"
     ]
    },
    {
     "name": "stderr",
     "output_type": "stream",
     "text": [
      "15/80 | Cost: 0.05 | Train/Valid MSE.: 0.02/0.02 "
     ]
    },
    {
     "name": "stdout",
     "output_type": "stream",
     "text": [
      "0.08755\n"
     ]
    },
    {
     "name": "stderr",
     "output_type": "stream",
     "text": [
      "14/80 | Cost: 0.06 | Train/Valid MSE.: 0.04/0.04 "
     ]
    },
    {
     "name": "stdout",
     "output_type": "stream",
     "text": [
      "0.08805000000000002\n"
     ]
    },
    {
     "name": "stderr",
     "output_type": "stream",
     "text": [
      "16/80 | Cost: 0.05 | Train/Valid MSE.: 0.03/0.03 "
     ]
    },
    {
     "name": "stdout",
     "output_type": "stream",
     "text": [
      "0.08855\n"
     ]
    },
    {
     "name": "stderr",
     "output_type": "stream",
     "text": [
      "15/80 | Cost: 0.09 | Train/Valid MSE.: 0.06/0.06 "
     ]
    },
    {
     "name": "stdout",
     "output_type": "stream",
     "text": [
      "0.08905000000000002\n"
     ]
    },
    {
     "name": "stderr",
     "output_type": "stream",
     "text": [
      "17/80 | Cost: 0.05 | Train/Valid MSE.: 0.03/0.03 "
     ]
    },
    {
     "name": "stdout",
     "output_type": "stream",
     "text": [
      "0.08955000000000002\n"
     ]
    },
    {
     "name": "stderr",
     "output_type": "stream",
     "text": [
      "15/80 | Cost: 0.06 | Train/Valid MSE.: 0.04/0.04 "
     ]
    },
    {
     "name": "stdout",
     "output_type": "stream",
     "text": [
      "0.09005\n"
     ]
    },
    {
     "name": "stderr",
     "output_type": "stream",
     "text": [
      "16/80 | Cost: 0.05 | Train/Valid MSE.: 0.03/0.03 "
     ]
    },
    {
     "name": "stdout",
     "output_type": "stream",
     "text": [
      "0.09055000000000002\n"
     ]
    },
    {
     "name": "stderr",
     "output_type": "stream",
     "text": [
      "18/80 | Cost: 0.04 | Train/Valid MSE.: 0.02/0.02 "
     ]
    },
    {
     "name": "stdout",
     "output_type": "stream",
     "text": [
      "0.09105\n"
     ]
    },
    {
     "name": "stderr",
     "output_type": "stream",
     "text": [
      "17/80 | Cost: 0.07 | Train/Valid MSE.: 0.05/0.05 "
     ]
    },
    {
     "name": "stdout",
     "output_type": "stream",
     "text": [
      "0.09155\n"
     ]
    },
    {
     "name": "stderr",
     "output_type": "stream",
     "text": [
      "15/80 | Cost: 0.05 | Train/Valid MSE.: 0.03/0.03 "
     ]
    },
    {
     "name": "stdout",
     "output_type": "stream",
     "text": [
      "0.09205000000000002\n"
     ]
    },
    {
     "name": "stderr",
     "output_type": "stream",
     "text": [
      "16/80 | Cost: 0.08 | Train/Valid MSE.: 0.05/0.05 "
     ]
    },
    {
     "name": "stdout",
     "output_type": "stream",
     "text": [
      "0.09255000000000001\n"
     ]
    },
    {
     "name": "stderr",
     "output_type": "stream",
     "text": [
      "17/80 | Cost: 0.03 | Train/Valid MSE.: 0.01/0.01 "
     ]
    },
    {
     "name": "stdout",
     "output_type": "stream",
     "text": [
      "0.09305000000000002\n"
     ]
    },
    {
     "name": "stderr",
     "output_type": "stream",
     "text": [
      "15/80 | Cost: 0.08 | Train/Valid MSE.: 0.05/0.05 "
     ]
    },
    {
     "name": "stdout",
     "output_type": "stream",
     "text": [
      "0.09355000000000001\n"
     ]
    },
    {
     "name": "stderr",
     "output_type": "stream",
     "text": [
      "16/80 | Cost: 0.04 | Train/Valid MSE.: 0.01/0.01 "
     ]
    },
    {
     "name": "stdout",
     "output_type": "stream",
     "text": [
      "0.09405000000000001\n"
     ]
    },
    {
     "name": "stderr",
     "output_type": "stream",
     "text": [
      "15/80 | Cost: 0.08 | Train/Valid MSE.: 0.04/0.05 "
     ]
    },
    {
     "name": "stdout",
     "output_type": "stream",
     "text": [
      "0.09455000000000002\n"
     ]
    },
    {
     "name": "stderr",
     "output_type": "stream",
     "text": [
      "15/80 | Cost: 0.07 | Train/Valid MSE.: 0.04/0.04 "
     ]
    },
    {
     "name": "stdout",
     "output_type": "stream",
     "text": [
      "0.09505000000000001\n"
     ]
    },
    {
     "name": "stderr",
     "output_type": "stream",
     "text": [
      "16/80 | Cost: 0.08 | Train/Valid MSE.: 0.06/0.06 "
     ]
    },
    {
     "name": "stdout",
     "output_type": "stream",
     "text": [
      "0.09555000000000002\n"
     ]
    },
    {
     "name": "stderr",
     "output_type": "stream",
     "text": [
      "16/80 | Cost: 0.04 | Train/Valid MSE.: 0.01/0.01 "
     ]
    },
    {
     "name": "stdout",
     "output_type": "stream",
     "text": [
      "0.09605000000000002\n"
     ]
    },
    {
     "name": "stderr",
     "output_type": "stream",
     "text": [
      "17/80 | Cost: 0.04 | Train/Valid MSE.: 0.01/0.01 "
     ]
    },
    {
     "name": "stdout",
     "output_type": "stream",
     "text": [
      "0.09655000000000001\n"
     ]
    },
    {
     "name": "stderr",
     "output_type": "stream",
     "text": [
      "15/80 | Cost: 0.06 | Train/Valid MSE.: 0.03/0.03 "
     ]
    },
    {
     "name": "stdout",
     "output_type": "stream",
     "text": [
      "0.09705000000000003\n"
     ]
    },
    {
     "name": "stderr",
     "output_type": "stream",
     "text": [
      "15/80 | Cost: 0.06 | Train/Valid MSE.: 0.03/0.03 "
     ]
    },
    {
     "name": "stdout",
     "output_type": "stream",
     "text": [
      "0.09755000000000001\n"
     ]
    },
    {
     "name": "stderr",
     "output_type": "stream",
     "text": [
      "18/80 | Cost: 0.04 | Train/Valid MSE.: 0.02/0.02 "
     ]
    },
    {
     "name": "stdout",
     "output_type": "stream",
     "text": [
      "0.09805000000000001\n"
     ]
    },
    {
     "name": "stderr",
     "output_type": "stream",
     "text": [
      "17/80 | Cost: 0.05 | Train/Valid MSE.: 0.02/0.02 "
     ]
    },
    {
     "name": "stdout",
     "output_type": "stream",
     "text": [
      "0.09855000000000003\n"
     ]
    },
    {
     "name": "stderr",
     "output_type": "stream",
     "text": [
      "16/80 | Cost: 0.04 | Train/Valid MSE.: 0.02/0.02 "
     ]
    },
    {
     "name": "stdout",
     "output_type": "stream",
     "text": [
      "0.09905000000000001\n"
     ]
    },
    {
     "name": "stderr",
     "output_type": "stream",
     "text": [
      "16/80 | Cost: 0.05 | Train/Valid MSE.: 0.02/0.02 "
     ]
    },
    {
     "name": "stdout",
     "output_type": "stream",
     "text": [
      "0.09955000000000003\n"
     ]
    },
    {
     "name": "stderr",
     "output_type": "stream",
     "text": [
      "80/80 | Cost: 0.03 | Train/Valid MSE.: 0.01/0.01 "
     ]
    }
   ],
   "source": [
    "X_train_val, X_test, y_train_val, y_test = train_test_split(X_values, sin_wave, test_size=0.25, random_state=42)\n",
    "X_train, X_val, y_train, y_val = train_test_split(X_train_val, y_train_val, test_size=(1/3), random_state=42)\n",
    "\n",
    "sca2 = np.arange(0.01, 20, 0.1)\n",
    "\n",
    "cost, mtr, mvl = opti(sca2)\n"
   ]
  },
  {
   "cell_type": "code",
   "execution_count": 133,
   "id": "63822342",
   "metadata": {},
   "outputs": [
    {
     "name": "stdout",
     "output_type": "stream",
     "text": [
      "200\n"
     ]
    }
   ],
   "source": [
    "print(len(sca2*eta))"
   ]
  },
  {
   "cell_type": "code",
   "execution_count": 142,
   "id": "248b8557",
   "metadata": {},
   "outputs": [
    {
     "name": "stdout",
     "output_type": "stream",
     "text": [
      "minimum at eta =  0.00455 here mse is 0.010341503137681719\n",
      "minimum at eta =  0.00455 here mse is 0.010621561160841253\n"
     ]
    },
    {
     "data": {
      "image/png": "[encoded data removed]",
      "text/plain": [
       "<Figure size 1152x576 with 1 Axes>"
      ]
     },
     "metadata": {
      "needs_background": "light"
     },
     "output_type": "display_data"
    }
   ],
   "source": [
    "\n",
    "plt.figure(figsize=(16,8))\n",
    "plt.plot(eta*sca2, cost, label='Cost function')\n",
    "plt.plot(eta*sca2, mtr, label='MSE training')\n",
    "plt.plot(eta*sca2, mvl, label='MSE validation')\n",
    "plt.xlabel('Learning rate $\\eta$')\n",
    "plt.ylabel('Mean Square Error $\\sigma$')\n",
    "plt.legend()\n",
    "plt.grid()\n",
    "print('minimum at eta = ', eta*sca2[np.argmin(mtr)], 'here mse is', mtr[np.argmin(mtr)])\n",
    "print('minimum at eta = ', eta*sca2[np.argmin(mvl)], 'here mse is', mvl[np.argmin(mvl)])\n",
    "\n",
    "    "
   ]
  },
  {
   "cell_type": "code",
   "execution_count": 122,
   "id": "cc1747cd",
   "metadata": {
    "scrolled": true
   },
   "outputs": [
    {
     "name": "stdout",
     "output_type": "stream",
     "text": [
      "75\n",
      "16\n",
      "36\n"
     ]
    }
   ],
   "source": [
    "print(np.argmin(cost))#COST\n",
    "print(np.argmin(mtr))#MSE TRAIN\n",
    "print(np.argmin(mvl))#MSE VALID"
   ]
  },
  {
   "cell_type": "code",
   "execution_count": null,
   "id": "00f4ec56",
   "metadata": {},
   "outputs": [],
   "source": []
  },
  {
   "cell_type": "code",
   "execution_count": 143,
   "id": "8def3b98",
   "metadata": {},
   "outputs": [
    {
     "name": "stderr",
     "output_type": "stream",
     "text": [
      "80/80 | Cost: 0.03 | Train/Valid MSE.: 0.01/0.01 "
     ]
    }
   ],
   "source": [
    "mlpopt = MLP(eta=0.00455)\n",
    "mlpopt.train(X_train, y_train, X_val, y_val)"
   ]
  },
  {
   "cell_type": "code",
   "execution_count": 144,
   "id": "1a239814",
   "metadata": {},
   "outputs": [
    {
     "name": "stdout",
     "output_type": "stream",
     "text": [
      "mean squared error:0.010698873667357505\n"
     ]
    }
   ],
   "source": [
    "mlpopt.evaluate(X_test, y_test)"
   ]
  },
  {
   "cell_type": "code",
   "execution_count": 145,
   "id": "2f6cfa3f",
   "metadata": {},
   "outputs": [],
   "source": [
    "pred = mlpopt.predict(X_test)"
   ]
  },
  {
   "cell_type": "code",
   "execution_count": 146,
   "id": "4c2f4cad",
   "metadata": {},
   "outputs": [],
   "source": [
    "def sin(x):\n",
    "    return np.sin(x)"
   ]
  },
  {
   "cell_type": "code",
   "execution_count": 151,
   "id": "b91d5bae",
   "metadata": {},
   "outputs": [
    {
     "data": {
      "image/png": "[encoded data removed]",
      "text/plain": [
       "<Figure size 1152x576 with 1 Axes>"
      ]
     },
     "metadata": {
      "needs_background": "light"
     },
     "output_type": "display_data"
    }
   ],
   "source": [
    "plt.figure(figsize=(16,8))\n",
    "plt.plot(x_values,sin_wave,'.', label='Original data')\n",
    "plt.xlabel('X Values')\n",
    "plt.ylabel('Y Values')\n",
    "plt.plot(x_values, sin(x_values), '.', label='Sin(x)', c='tab:green')\n",
    "plt.plot(X_test, pred, '.', c='tab:red', markersize=6, label='Machine learning prediction with best estimate $\\eta$')\n",
    "plt.legend()\n",
    "plt.grid()"
   ]
  },
  {
   "cell_type": "code",
   "execution_count": 148,
   "id": "d8eedad1",
   "metadata": {},
   "outputs": [
    {
     "name": "stdout",
     "output_type": "stream",
     "text": [
      "R-squared: 0.9793\n"
     ]
    }
   ],
   "source": [
    "from sklearn.metrics import r2_score\n",
    "\n",
    "# assuming you have test data in variables X_test and y_test\n",
    "y_pred = mlpopt.predict(X_test)  # mlp is an instance of your MLP class\n",
    "r2 = r2_score(y_test, y_pred)\n",
    "\n",
    "print(f'R-squared: {r2:.4f}')\n"
   ]
  },
  {
   "cell_type": "code",
   "execution_count": null,
   "id": "0ce7818d",
   "metadata": {},
   "outputs": [],
   "source": []
  }
 ],
 "metadata": {
  "kernelspec": {
   "display_name": "Python 3 (ipykernel)",
   "language": "python",
   "name": "python3"
  },
  "language_info": {
   "codemirror_mode": {
    "name": "ipython",
    "version": 3
   },
   "file_extension": ".py",
   "mimetype": "text/x-python",
   "name": "python",
   "nbconvert_exporter": "python",
   "pygments_lexer": "ipython3",
   "version": "3.9.12"
  }
 },
 "nbformat": 4,
 "nbformat_minor": 5
}
