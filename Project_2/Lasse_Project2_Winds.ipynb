{
 "cells": [
  {
   "cell_type": "markdown",
   "id": "1b22a9e9-a4cc-4a4d-beab-789dc3329d0c",
   "metadata": {},
   "source": [
    "# P2\n",
    "## Lasse VUlto\n",
    "## WIND DOWNSCALING SEPERATE NOTEBOOK"
   ]
  },
  {
   "cell_type": "code",
   "execution_count": 1,
   "id": "27657c30-1f11-4ea1-a293-c5c3b4068c8d",
   "metadata": {},
   "outputs": [
    {
     "name": "stderr",
     "output_type": "stream",
     "text": [
      "C:\\Users\\Lasse\\anaconda3\\lib\\site-packages\\scipy\\__init__.py:146: UserWarning: A NumPy version >=1.16.5 and <1.23.0 is required for this version of SciPy (detected version 1.25.0\n",
      "  warnings.warn(f\"A NumPy version >={np_minversion} and <{np_maxversion}\"\n"
     ]
    }
   ],
   "source": [
    "import os\n",
    "import time\n",
    "import numpy as np\n",
    "import xarray as xr\n",
    "import matplotlib.pyplot as plt\n",
    "import matplotlib as mpl\n",
    "import cartopy.crs as ccrs\n",
    "import cmocean as cm\n",
    "import cartopy.feature as cf\n",
    "from scipy import stats\n",
    "from tqdm import trange\n",
    "\n",
    "import helper_functions as hf\n"
   ]
  },
  {
   "cell_type": "markdown",
   "id": "97d19186-454a-4b19-b7c7-7bda4f091e3c",
   "metadata": {},
   "source": []
  },
  {
   "cell_type": "markdown",
   "id": "a384e3b9-19c3-4feb-880d-30bf439a64f2",
   "metadata": {},
   "source": [
    "## Reading data again"
   ]
  },
  {
   "cell_type": "code",
   "execution_count": 2,
   "id": "0de43a04-b276-48b7-a11b-823d4e63b4c4",
   "metadata": {},
   "outputs": [],
   "source": [
    "# used in training\n",
    "T_NCEP_down = np.load('Analysis/T_NCEP_down.npy')\n",
    "U_NCEP_down = np.load('Analysis/U_NCEP_down.npy')\n",
    "V_NCEP_down = np.load('Analysis/V_NCEP_down.npy')\n",
    "\n",
    "# used in testing\n",
    "T_NCEP_test_down = np.load('Analysis/T_NCEP_test_down.npy')\n",
    "U_NCEP_test_down = np.load('Analysis/U_NCEP_test_down.npy')\n",
    "V_NCEP_test_down = np.load('Analysis/V_NCEP_test_down.npy')\n",
    "\n",
    "# make xarrays for ease of plotting and analysis\n",
    "U_NCEP_down_toxr, V_NCEP_down_toxr, T_NCEP_down_toxr = np.squeeze(U_NCEP_down), np.squeeze(V_NCEP_down), np.squeeze(T_NCEP_down)\n",
    "U_NCEP_test_down_toxr, V_NCEP_test_down_toxr, T_NCEP_test_down_toxr = np.squeeze(U_NCEP_test_down), np.squeeze(V_NCEP_test_down), np.squeeze(T_NCEP_test_down)\n",
    "\n",
    "NCEP_down = xr.Dataset(\n",
    "    data_vars = dict(\n",
    "        U = (['time', 'y', 'x'], U_NCEP_down_toxr),\n",
    "        V = (['time', 'y', 'x'], V_NCEP_down_toxr),\n",
    "        T = (['time', 'y', 'x'], T_NCEP_down_toxr))\n",
    ")\n",
    "\n",
    "NCEP_test_down = xr.Dataset(\n",
    "    data_vars = dict(\n",
    "        U = (['time', 'y', 'x'], U_NCEP_test_down_toxr),\n",
    "        V = (['time', 'y', 'x'], V_NCEP_test_down_toxr),\n",
    "        T = (['time', 'y', 'x'], T_NCEP_test_down_toxr))\n",
    ")\n"
   ]
  },
  {
   "cell_type": "code",
   "execution_count": 3,
   "id": "21a983ca-2854-4ec6-9ca0-cf8bdcad9380",
   "metadata": {},
   "outputs": [],
   "source": [
    "U_NCEP_down_regrid = hf.regrid(U_NCEP_down, 6)\n",
    "V_NCEP_down_regrid = hf.regrid(V_NCEP_down, 6)\n",
    "T_NCEP_down_regrid = hf.regrid(T_NCEP_down, 6)\n",
    "\n"
   ]
  },
  {
   "cell_type": "code",
   "execution_count": 4,
   "id": "3bbddc1c",
   "metadata": {},
   "outputs": [
    {
     "data": {
      "text/plain": [
       "(4128, 96, 96)"
      ]
     },
     "execution_count": 4,
     "metadata": {},
     "output_type": "execute_result"
    }
   ],
   "source": [
    "NCEP_down_regrid = xr.Dataset(\n",
    "    data_vars = dict(\n",
    "        U = (['time', 'y', 'x'], U_NCEP_down_regrid),\n",
    "        V = (['time', 'y', 'x'], V_NCEP_down_regrid),\n",
    "        T = (['time', 'y', 'x'], T_NCEP_down_regrid))\n",
    ")\n",
    "\n",
    "U_NCEP_down_regrid.shape"
   ]
  },
  {
   "cell_type": "code",
   "execution_count": 5,
   "id": "ed4f1a5d-ddcc-4b3c-957f-ed87d22f3db1",
   "metadata": {
    "tags": []
   },
   "outputs": [],
   "source": [
    "T_WRF_3km = np.load('Analysis/T_WRF_3km.npy')\n",
    "U_WRF_3km = np.load('Analysis/U_WRF_3km.npy')\n",
    "V_WRF_3km = np.load('Analysis/V_WRF_3km.npy')\n",
    "\n",
    "T_WRF_9km = np.load('Analysis/T_WRF_9km.npy')\n",
    "U_WRF_9km = np.load('Analysis/U_WRF_9km.npy')\n",
    "V_WRF_9km = np.load('Analysis/v_WRF_9km.npy')\n",
    "\n",
    "T_WRF_3km_test = np.load('Analysis/T_WRF_3km_test.npy')\n",
    "U_WRF_3km_test = np.load('Analysis/U_WRF_3km_test.npy')\n",
    "V_WRF_3km_test = np.load('Analysis/V_WRF_3km_test.npy')\n",
    "\n",
    "T_WRF_9km_test = np.load('Analysis/T_WRF_9km_test.npy')\n",
    "U_WRF_9km_test = np.load('Analysis/U_WRF_9km_test.npy')\n",
    "V_WRF_9km_test = np.load('Analysis/V_WRF_9km_test.npy')\n",
    "\n",
    "# used in training\n",
    "T_WRF_9km_down = hf.downscale_image(T_WRF_9km, 3)\n",
    "U_WRF_9km_down = hf.downscale_image(U_WRF_9km, 3)\n",
    "V_WRF_9km_down = hf.downscale_image(V_WRF_9km, 3)\n",
    "\n",
    "# used in testing\n",
    "T_WRF_9km_test_down = hf.downscale_image(T_WRF_9km_test, 3)\n",
    "U_WRF_9km_test_down = hf.downscale_image(U_WRF_9km_test, 3)\n",
    "V_WRF_9km_test_down = hf.downscale_image(V_WRF_9km_test, 3)\n",
    "\n",
    "WRF_3km = xr.Dataset(\n",
    "    data_vars = dict(\n",
    "        U = (['time', 'y', 'x'], U_WRF_3km),\n",
    "        V = (['time', 'y', 'x'], V_WRF_3km),\n",
    "        T = (['time', 'y', 'x'], T_WRF_3km))\n",
    ")\n",
    "\n",
    "WRF_9km = xr.Dataset(\n",
    "    data_vars = dict(\n",
    "        U = (['time', 'y', 'x'], U_WRF_9km),\n",
    "        V = (['time', 'y', 'x'], V_WRF_9km),\n",
    "        T = (['time', 'y', 'x'], T_WRF_9km))\n",
    ")\n",
    "\n",
    "T_WRF_9km_test_down_toxr, U_WRF_9km_test_down_toxr, V_WRF_9km_test_down_toxr = np.squeeze(T_WRF_9km_test_down), np.squeeze(U_WRF_9km_test_down), np.squeeze(V_WRF_9km_test_down)\n",
    "\n",
    "WRF_9km_test = xr.Dataset(\n",
    "      data_vars = dict(\n",
    "        U = (['time', 'y', 'x'], U_WRF_9km_test_down_toxr),\n",
    "        V = (['time', 'y', 'x'], V_WRF_9km_test_down_toxr),\n",
    "        T = (['time', 'y', 'x'], T_WRF_9km_test_down_toxr))  \n",
    ")\n",
    "\n"
   ]
  },
  {
   "cell_type": "code",
   "execution_count": 200,
   "id": "9452ee77-ecd2-41c0-9d6b-7bd68aa07192",
   "metadata": {},
   "outputs": [
    {
     "ename": "KeyboardInterrupt",
     "evalue": "",
     "output_type": "error",
     "traceback": [
      "\u001b[1;31m---------------------------------------------------------------------------\u001b[0m",
      "\u001b[1;31mKeyboardInterrupt\u001b[0m                         Traceback (most recent call last)",
      "Input \u001b[1;32mIn [200]\u001b[0m, in \u001b[0;36m<cell line: 19>\u001b[1;34m()\u001b[0m\n\u001b[0;32m     17\u001b[0m U_pdf_NCEP_WRF3_x, U_pdf_NCEP_WRF3_kde \u001b[38;5;241m=\u001b[39m compute_pdf(NCEP_down_regrid\u001b[38;5;241m.\u001b[39mU, WRF_3km\u001b[38;5;241m.\u001b[39mU)\n\u001b[0;32m     18\u001b[0m V_pdf_NCEP_WRF3_x, V_pdf_NCEP_WRF3_kde \u001b[38;5;241m=\u001b[39m compute_pdf(NCEP_down_regrid\u001b[38;5;241m.\u001b[39mV, WRF_3km\u001b[38;5;241m.\u001b[39mV)\n\u001b[1;32m---> 19\u001b[0m T_pdf_NCEP_WRF3_x, T_pdf_NCEP_WRF3_kde \u001b[38;5;241m=\u001b[39m \u001b[43mcompute_pdf\u001b[49m\u001b[43m(\u001b[49m\u001b[43mNCEP_down_regrid\u001b[49m\u001b[38;5;241;43m.\u001b[39;49m\u001b[43mT\u001b[49m\u001b[43m,\u001b[49m\u001b[43m \u001b[49m\u001b[43mWRF_3km\u001b[49m\u001b[38;5;241;43m.\u001b[39;49m\u001b[43mT\u001b[49m\u001b[43m)\u001b[49m\n\u001b[0;32m     21\u001b[0m U_pdf_NCEP_WRF9_x, U_pdf_NCEP_WRF9_kde \u001b[38;5;241m=\u001b[39m compute_pdf(NCEP_down_regrid\u001b[38;5;241m.\u001b[39mU, WRF_9km\u001b[38;5;241m.\u001b[39mU)\n\u001b[0;32m     22\u001b[0m V_pdf_NCEP_WRF9_x, V_pdf_NCEP_WRF9_kde \u001b[38;5;241m=\u001b[39m compute_pdf(NCEP_down_regrid\u001b[38;5;241m.\u001b[39mV, WRF_9km\u001b[38;5;241m.\u001b[39mV)\n",
      "Input \u001b[1;32mIn [200]\u001b[0m, in \u001b[0;36mcompute_pdf\u001b[1;34m(data1, data2)\u001b[0m\n\u001b[0;32m      3\u001b[0m     \u001b[38;5;28mprint\u001b[39m(\u001b[38;5;124m'\u001b[39m\u001b[38;5;124msizes do not correspond!\u001b[39m\u001b[38;5;124m'\u001b[39m)\n\u001b[0;32m      5\u001b[0m \u001b[38;5;66;03m# calculate the RMSE\u001b[39;00m\n\u001b[1;32m----> 6\u001b[0m diff \u001b[38;5;241m=\u001b[39m \u001b[43mdata1\u001b[49m\u001b[43m \u001b[49m\u001b[38;5;241;43m-\u001b[39;49m\u001b[43m \u001b[49m\u001b[43mdata2\u001b[49m\n\u001b[0;32m      7\u001b[0m square \u001b[38;5;241m=\u001b[39m diff\u001b[38;5;241m*\u001b[39m\u001b[38;5;241m*\u001b[39m\u001b[38;5;241m2\u001b[39m\n\u001b[0;32m      8\u001b[0m sm \u001b[38;5;241m=\u001b[39m square\u001b[38;5;241m.\u001b[39msum(\u001b[38;5;124m'\u001b[39m\u001b[38;5;124mx\u001b[39m\u001b[38;5;124m'\u001b[39m)\u001b[38;5;241m.\u001b[39msum(\u001b[38;5;124m'\u001b[39m\u001b[38;5;124my\u001b[39m\u001b[38;5;124m'\u001b[39m)\n",
      "File \u001b[1;32m~\\anaconda3\\lib\\site-packages\\xarray\\core\\_typed_ops.py:209\u001b[0m, in \u001b[0;36mDataArrayOpsMixin.__sub__\u001b[1;34m(self, other)\u001b[0m\n\u001b[0;32m    208\u001b[0m \u001b[38;5;28;01mdef\u001b[39;00m \u001b[38;5;21m__sub__\u001b[39m(\u001b[38;5;28mself\u001b[39m, other):\n\u001b[1;32m--> 209\u001b[0m     \u001b[38;5;28;01mreturn\u001b[39;00m \u001b[38;5;28;43mself\u001b[39;49m\u001b[38;5;241;43m.\u001b[39;49m\u001b[43m_binary_op\u001b[49m\u001b[43m(\u001b[49m\u001b[43mother\u001b[49m\u001b[43m,\u001b[49m\u001b[43m \u001b[49m\u001b[43moperator\u001b[49m\u001b[38;5;241;43m.\u001b[39;49m\u001b[43msub\u001b[49m\u001b[43m)\u001b[49m\n",
      "File \u001b[1;32m~\\anaconda3\\lib\\site-packages\\xarray\\core\\dataarray.py:3081\u001b[0m, in \u001b[0;36mDataArray._binary_op\u001b[1;34m(self, other, f, reflexive)\u001b[0m\n\u001b[0;32m   3077\u001b[0m other_variable \u001b[38;5;241m=\u001b[39m \u001b[38;5;28mgetattr\u001b[39m(other, \u001b[38;5;124m\"\u001b[39m\u001b[38;5;124mvariable\u001b[39m\u001b[38;5;124m\"\u001b[39m, other)\n\u001b[0;32m   3078\u001b[0m other_coords \u001b[38;5;241m=\u001b[39m \u001b[38;5;28mgetattr\u001b[39m(other, \u001b[38;5;124m\"\u001b[39m\u001b[38;5;124mcoords\u001b[39m\u001b[38;5;124m\"\u001b[39m, \u001b[38;5;28;01mNone\u001b[39;00m)\n\u001b[0;32m   3080\u001b[0m variable \u001b[38;5;241m=\u001b[39m (\n\u001b[1;32m-> 3081\u001b[0m     \u001b[43mf\u001b[49m\u001b[43m(\u001b[49m\u001b[38;5;28;43mself\u001b[39;49m\u001b[38;5;241;43m.\u001b[39;49m\u001b[43mvariable\u001b[49m\u001b[43m,\u001b[49m\u001b[43m \u001b[49m\u001b[43mother_variable\u001b[49m\u001b[43m)\u001b[49m\n\u001b[0;32m   3082\u001b[0m     \u001b[38;5;28;01mif\u001b[39;00m \u001b[38;5;129;01mnot\u001b[39;00m reflexive\n\u001b[0;32m   3083\u001b[0m     \u001b[38;5;28;01melse\u001b[39;00m f(other_variable, \u001b[38;5;28mself\u001b[39m\u001b[38;5;241m.\u001b[39mvariable)\n\u001b[0;32m   3084\u001b[0m )\n\u001b[0;32m   3085\u001b[0m coords, indexes \u001b[38;5;241m=\u001b[39m \u001b[38;5;28mself\u001b[39m\u001b[38;5;241m.\u001b[39mcoords\u001b[38;5;241m.\u001b[39m_merge_raw(other_coords, reflexive)\n\u001b[0;32m   3086\u001b[0m name \u001b[38;5;241m=\u001b[39m \u001b[38;5;28mself\u001b[39m\u001b[38;5;241m.\u001b[39m_result_name(other)\n",
      "File \u001b[1;32m~\\anaconda3\\lib\\site-packages\\xarray\\core\\_typed_ops.py:399\u001b[0m, in \u001b[0;36mVariableOpsMixin.__sub__\u001b[1;34m(self, other)\u001b[0m\n\u001b[0;32m    398\u001b[0m \u001b[38;5;28;01mdef\u001b[39;00m \u001b[38;5;21m__sub__\u001b[39m(\u001b[38;5;28mself\u001b[39m, other):\n\u001b[1;32m--> 399\u001b[0m     \u001b[38;5;28;01mreturn\u001b[39;00m \u001b[38;5;28;43mself\u001b[39;49m\u001b[38;5;241;43m.\u001b[39;49m\u001b[43m_binary_op\u001b[49m\u001b[43m(\u001b[49m\u001b[43mother\u001b[49m\u001b[43m,\u001b[49m\u001b[43m \u001b[49m\u001b[43moperator\u001b[49m\u001b[38;5;241;43m.\u001b[39;49m\u001b[43msub\u001b[49m\u001b[43m)\u001b[49m\n",
      "File \u001b[1;32m~\\anaconda3\\lib\\site-packages\\xarray\\core\\variable.py:2409\u001b[0m, in \u001b[0;36mVariable._binary_op\u001b[1;34m(self, other, f, reflexive)\u001b[0m\n\u001b[0;32m   2406\u001b[0m attrs \u001b[38;5;241m=\u001b[39m \u001b[38;5;28mself\u001b[39m\u001b[38;5;241m.\u001b[39m_attrs \u001b[38;5;28;01mif\u001b[39;00m keep_attrs \u001b[38;5;28;01melse\u001b[39;00m \u001b[38;5;28;01mNone\u001b[39;00m\n\u001b[0;32m   2407\u001b[0m \u001b[38;5;28;01mwith\u001b[39;00m np\u001b[38;5;241m.\u001b[39merrstate(\u001b[38;5;28mall\u001b[39m\u001b[38;5;241m=\u001b[39m\u001b[38;5;124m\"\u001b[39m\u001b[38;5;124mignore\u001b[39m\u001b[38;5;124m\"\u001b[39m):\n\u001b[0;32m   2408\u001b[0m     new_data \u001b[38;5;241m=\u001b[39m (\n\u001b[1;32m-> 2409\u001b[0m         \u001b[43mf\u001b[49m\u001b[43m(\u001b[49m\u001b[43mself_data\u001b[49m\u001b[43m,\u001b[49m\u001b[43m \u001b[49m\u001b[43mother_data\u001b[49m\u001b[43m)\u001b[49m \u001b[38;5;28;01mif\u001b[39;00m \u001b[38;5;129;01mnot\u001b[39;00m reflexive \u001b[38;5;28;01melse\u001b[39;00m f(other_data, self_data)\n\u001b[0;32m   2410\u001b[0m     )\n\u001b[0;32m   2411\u001b[0m result \u001b[38;5;241m=\u001b[39m Variable(dims, new_data, attrs\u001b[38;5;241m=\u001b[39mattrs)\n\u001b[0;32m   2412\u001b[0m \u001b[38;5;28;01mreturn\u001b[39;00m result\n",
      "\u001b[1;31mKeyboardInterrupt\u001b[0m: "
     ]
    }
   ],
   "source": [
    "def compute_pdf(data1, data2):\n",
    "    if not len(data1) == len(data2):\n",
    "        print('sizes do not correspond!')\n",
    "\n",
    "    # calculate the RMSE\n",
    "    diff = data1 - data2\n",
    "    square = diff**2\n",
    "    sm = square.sum('x').sum('y')\n",
    "    div = sm/(square.shape[1]*square.shape[2])\n",
    "    rmse = div**(0.5)\n",
    "\n",
    "    # calculate the PDF\n",
    "    xs =  np.linspace(min(rmse)-1, max(rmse)+1, len(rmse))\n",
    "    kde = stats.gaussian_kde(rmse)\n",
    "    return xs, kde(xs)\n",
    "    \n",
    "U_pdf_NCEP_WRF3_x, U_pdf_NCEP_WRF3_kde = compute_pdf(NCEP_down_regrid.U, WRF_3km.U)\n",
    "V_pdf_NCEP_WRF3_x, V_pdf_NCEP_WRF3_kde = compute_pdf(NCEP_down_regrid.V, WRF_3km.V)\n",
    "T_pdf_NCEP_WRF3_x, T_pdf_NCEP_WRF3_kde = compute_pdf(NCEP_down_regrid.T, WRF_3km.T)\n",
    "\n",
    "U_pdf_NCEP_WRF9_x, U_pdf_NCEP_WRF9_kde = compute_pdf(NCEP_down_regrid.U, WRF_9km.U)\n",
    "V_pdf_NCEP_WRF9_x, V_pdf_NCEP_WRF9_kde = compute_pdf(NCEP_down_regrid.V, WRF_9km.V)\n",
    "T_pdf_NCEP_WRF9_x, T_pdf_NCEP_WRF9_kde = compute_pdf(NCEP_down_regrid.T, WRF_9km.T)"
   ]
  },
  {
   "cell_type": "code",
   "execution_count": 241,
   "id": "e926e0d9",
   "metadata": {},
   "outputs": [
    {
     "data": {
      "text/plain": [
       "(4128, 96, 96)"
      ]
     },
     "execution_count": 241,
     "metadata": {},
     "output_type": "execute_result"
    }
   ],
   "source": [
    "T_WRF_3km.shape"
   ]
  },
  {
   "cell_type": "markdown",
   "id": "331605ba-1ddc-4252-9933-40414a815a52",
   "metadata": {},
   "source": [
    "## GAN time"
   ]
  },
  {
   "cell_type": "code",
   "execution_count": null,
   "id": "d46f1fb5-8392-43d0-964b-5ad717d83bfe",
   "metadata": {
    "tags": []
   },
   "outputs": [],
   "source": [
    "from torch.utils.data import TensorDataset, Dataset, DataLoader\n",
    "from torch import Tensor\n",
    "import torch.nn as nn\n",
    "import torch \n",
    "from torch.utils.data import Dataset\n",
    "from torchvision import datasets\n",
    "from torchvision.transforms import ToTensor\n",
    "import torch.nn.functional as F\n",
    "\n",
    "slicer = 256\n",
    "\n",
    "\n",
    "\n",
    "\n",
    "U_NCEP_train = np.reshape(U_NCEP_down, newshape=(4128,1,16,16))\n",
    "V_NCEP_train = np.reshape(V_NCEP_down, newshape=(4128,1,16,16))\n",
    "\n",
    "Wind_NCEP_train = np.concatenate((U_NCEP_train, V_NCEP_train), axis=1)\n",
    "\n",
    "\n",
    "U_WRF_9km_train = np.reshape(U_WRF_9km_down, newshape=(4128,1,32,32))\n",
    "V_WRF_9km_train = np.reshape(V_WRF_9km_down, newshape=(4128,1,32,32))\n",
    "\n",
    "Wind_WRF_train = np.concatenate((U_WRF_9km_train, V_WRF_9km_train), axis=1)\n",
    "\n",
    "\n",
    "\n",
    "train_low_res_wind = Tensor(Wind_NCEP_train[:slicer]).float()\n",
    "train_high_res_wind = Tensor(Wind_WRF_train[:slicer]).float()\n",
    "\n",
    "Wind_WRF_train.shape, Wind_NCEP_train.shape\n",
    "\n",
    "\n",
    "batch_size=64\n",
    "dataloader = DataLoader(list(zip(train_low_res_wind, train_high_res_wind)), batch_size=batch_size, shuffle=True) "
   ]
  },
  {
   "cell_type": "code",
   "execution_count": null,
   "id": "ac002541",
   "metadata": {},
   "outputs": [],
   "source": []
  },
  {
   "cell_type": "code",
   "execution_count": 94,
   "id": "06c826ac-d3a7-4ac4-91ff-aa1ceaac6487",
   "metadata": {
    "tags": []
   },
   "outputs": [
    {
     "data": {
      "text/plain": [
       "device(type='cuda')"
      ]
     },
     "execution_count": 94,
     "metadata": {},
     "output_type": "execute_result"
    }
   ],
   "source": [
    "device = torch.device('cuda')\n",
    "device"
   ]
  },
  {
   "cell_type": "code",
   "execution_count": 95,
   "id": "9932c82d",
   "metadata": {},
   "outputs": [
    {
     "data": {
      "text/plain": [
       "(torch.Size([64, 2, 16, 16]), torch.Size([64, 2, 32, 32]))"
      ]
     },
     "execution_count": 95,
     "metadata": {},
     "output_type": "execute_result"
    }
   ],
   "source": [
    "for i,d in enumerate(dataloader):\n",
    "    l,h = d\n",
    "l.shape, h.shape"
   ]
  },
  {
   "cell_type": "markdown",
   "id": "f9e1a0f6-5b6d-4a56-84a5-0a9441896ee8",
   "metadata": {},
   "source": [
    "## Generator"
   ]
  },
  {
   "cell_type": "code",
   "execution_count": 96,
   "id": "d558aef6-d22f-4db2-9314-56d384043e26",
   "metadata": {
    "tags": []
   },
   "outputs": [],
   "source": [
    "class Generator(nn.Module): #This generator works in principle, Francesco approves \n",
    "    def __init__(self):\n",
    "        super(Generator, self).__init__()\n",
    "\n",
    "\n",
    "        self.a = nn.LeakyReLU()\n",
    "        self.conv1 = nn.ConvTranspose2d(2, 32, kernel_size=4, stride=2, padding=1)\n",
    "        self.a2 = nn.LeakyReLU()\n",
    "        self.conv2 = nn.Conv2d(32,64, kernel_size = 3, stride=1, padding = 1)\n",
    "        self.conv3 = nn.Conv2d(64,128, kernel_size = 3, stride=1, padding = 1)\n",
    "        self.convout = nn.Conv2d(128,2, kernel_size = 3, stride=1, padding = 1)\n",
    "        # self.a3 = nn.Tanh() # tried, didn't improve \n",
    "\n",
    "        \n",
    "    def forward(self, LR): \n",
    "        img = self.a(self.conv1(LR))\n",
    "        img = self.conv2(img)\n",
    "        img = self.a2(img)\n",
    "        img = self.conv3(img)\n",
    "        img = self.a2(img)\n",
    "        img = self.convout(img)\n",
    "        img = self.a2(img)\n",
    "        # img = self.a3(img) # suggestoin \n",
    "        \n",
    "        return img\n",
    "    "
   ]
  },
  {
   "cell_type": "markdown",
   "id": "69a4733b-8050-467e-ab40-1ec4cb0a0ef4",
   "metadata": {
    "tags": []
   },
   "source": [
    "# Discriminator"
   ]
  },
  {
   "cell_type": "code",
   "execution_count": 97,
   "id": "87749fef-24bc-440f-af8e-abde90a23915",
   "metadata": {
    "tags": []
   },
   "outputs": [],
   "source": [
    "class Discriminator(nn.Module): #This generator works in principle, Francesco approves \n",
    "    def __init__(self):\n",
    "        super(Discriminator, self).__init__()\n",
    "\n",
    "        self.conv1 = nn.Conv2d(2, 64, kernel_size=3, stride=1, padding=1)\n",
    "        \n",
    "        self.conv2 = nn.Sequential(\n",
    "            nn.Conv2d(64, 64, kernel_size=3, stride=2, padding=1),\n",
    "            nn.BatchNorm2d(64),\n",
    "            nn.LeakyReLU(0.2)\n",
    "        )\n",
    "        self.conv3 = nn.Sequential(\n",
    "            nn.Conv2d(64, 128, kernel_size=3, stride=1, padding=1),\n",
    "            nn.BatchNorm2d(128),\n",
    "            nn.LeakyReLU(0.2)\n",
    "        )\n",
    "        self.conv4 = nn.Sequential(\n",
    "            nn.Conv2d(128, 128, kernel_size=3, stride=2, padding=1),\n",
    "            nn.BatchNorm2d(128),\n",
    "            nn.LeakyReLU(0.2)\n",
    "        )\n",
    "        self.conv5 = nn.Sequential(\n",
    "            nn.Conv2d(128, 256, kernel_size=3, stride=1, padding=1),\n",
    "            nn.BatchNorm2d(256),\n",
    "            nn.LeakyReLU(0.2)\n",
    "        )\n",
    "        self.conv6 = nn.Sequential(\n",
    "            nn.Conv2d(256, 256, kernel_size=3, stride=2, padding=1),\n",
    "            nn.BatchNorm2d(256),\n",
    "            nn.LeakyReLU(0.2)\n",
    "        )\n",
    "        self.conv7 = nn.Sequential(\n",
    "            nn.Conv2d(256, 512, kernel_size=3, stride=1, padding=1),\n",
    "            nn.BatchNorm2d(512),\n",
    "            nn.LeakyReLU(0.2)\n",
    "        )\n",
    "        self.conv8 = nn.Sequential(\n",
    "            nn.Conv2d(512, 512, kernel_size=3, stride=2, padding=1),\n",
    "            nn.BatchNorm2d(512),\n",
    "            nn.LeakyReLU(0.2)\n",
    "        )\n",
    "        \n",
    "        self.fc2 = nn.Sequential(\n",
    "            nn.AdaptiveAvgPool2d((6 ,6)),\n",
    "#             nn.Flatten(),\n",
    "            nn.Linear(in_features=(32*32*512), out_features=1024),\n",
    "            nn.LeakyReLU(0.2),\n",
    "            nn.Linear(in_features=1024,out_features=2)\n",
    "        )\n",
    "        \n",
    "        self.fc = nn.Sequential(\n",
    "            nn.AdaptiveAvgPool2d((2, 2)),  # Adjust the output size\n",
    "            nn.Flatten(),\n",
    "            nn.Linear(in_features=(512 * 2 * 2), out_features=1024),\n",
    "            nn.LeakyReLU(0.2),\n",
    "            nn.Linear(in_features=1024, out_features=2),\n",
    "            nn.Sigmoid()\n",
    "        )\n",
    "        \n",
    "        self.out = nn.Linear(in_features = 512, out_features = 2)\n",
    "    def forward(self,x):\n",
    "        x = self.conv1(x)\n",
    "        x = F.leaky_relu(x, negative_slope=0.2)\n",
    "        x = self.conv2(x)\n",
    "        x = F.leaky_relu(x, negative_slope=0.2)\n",
    "        x = self.conv3(x)\n",
    "        x = F.leaky_relu(x, negative_slope=0.2)\n",
    "        x = self.conv4(x)\n",
    "        x = F.leaky_relu(x, negative_slope=0.2)\n",
    "        x = self.conv5(x)\n",
    "        x = F.leaky_relu(x, negative_slope=0.2)\n",
    "        x = self.conv6(x)\n",
    "        x = F.leaky_relu(x, negative_slope=0.2)\n",
    "        x = self.conv7(x)\n",
    "        x = F.leaky_relu(x, negative_slope=0.2)\n",
    "        x = self.conv8(x)\n",
    "        x = self.fc(x)\n",
    "        \n",
    "        return x"
   ]
  },
  {
   "cell_type": "markdown",
   "id": "cfb203cd-49a2-4bd2-a9c4-4ae6ca54b150",
   "metadata": {},
   "source": [
    "#### Optimizer"
   ]
  },
  {
   "cell_type": "code",
   "execution_count": 253,
   "id": "e3fd6792-2998-42c5-ac23-55760a0ba458",
   "metadata": {
    "tags": []
   },
   "outputs": [],
   "source": [
    "# suggested default - beta para\n",
    "b1 = 0.5\n",
    "b2 = 0.999\n",
    "\n",
    "# suggested default - learning rate\n",
    "lr_g = 9e-3\n",
    "lr_d = 1e-5\n",
    "\n",
    "generator = Generator()\n",
    "discriminator = Discriminator()\n",
    "\n",
    "optimizer_G = torch.optim.Adam(generator.parameters(), lr=lr_g, betas=(b1,b2))\n",
    "optimizer_D = torch.optim.Adam(discriminator.parameters(), lr=lr_d, betas=(b1,b2))"
   ]
  },
  {
   "cell_type": "markdown",
   "id": "df22422d-0219-499b-9ed9-6322451c860b",
   "metadata": {},
   "source": [
    "#### Loss"
   ]
  },
  {
   "cell_type": "code",
   "execution_count": 99,
   "id": "62eb1009-0f6d-4a4f-bfec-e25acfd2ae4f",
   "metadata": {
    "tags": []
   },
   "outputs": [],
   "source": [
    "generator_loss = torch.nn.MSELoss()\n",
    "discriminator_loss = torch.nn.BCELoss()\n",
    "# torch.nn.CrossEntropyLoss(reduction='none')\n",
    "\n",
    "# adversarial_loss = torch.nn.MSELoss()\n",
    "# loss_fct = torch.nn.CrossEntropyLoss(reduction='none')"
   ]
  },
  {
   "cell_type": "markdown",
   "id": "429ca305-1065-43ae-a301-13ab784537b5",
   "metadata": {},
   "source": [
    "### Train"
   ]
  },
  {
   "cell_type": "code",
   "execution_count": 254,
   "id": "6d47a8fa-0c32-4802-9558-53be9e449415",
   "metadata": {
    "scrolled": true,
    "tags": []
   },
   "outputs": [
    {
     "name": "stdout",
     "output_type": "stream",
     "text": [
      "Pretraining epoch 0; time spent: 0.00 s\n",
      "        Discriminator loss: 0.0000, Generator loss: 17.4467\n",
      "Pretraining epoch 1; time spent: 2.26 s\n",
      "        Discriminator loss: 0.0000, Generator loss: 18.1974\n",
      "Training epoch 2; time spent: 3.76 s\n",
      "        Still running epoch 2... i=0/4\n",
      "        Discriminator loss: 0.6267, Generator loss: 16.2072\n",
      "Training epoch 3; time spent: 10.14 s\n",
      "        Still running epoch 3... i=0/4\n",
      "        Discriminator loss: 0.5290, Generator loss: 15.3621\n",
      "Training epoch 4; time spent: 6.79 s\n",
      "        Still running epoch 4... i=0/4\n",
      "        Discriminator loss: 0.4652, Generator loss: 14.9839\n",
      "Training epoch 5; time spent: 8.55 s\n",
      "        Still running epoch 5... i=0/4\n",
      "        Discriminator loss: 0.4072, Generator loss: 27.3731\n",
      "Training epoch 6; time spent: 11.41 s\n",
      "        Still running epoch 6... i=0/4\n",
      "        Discriminator loss: 0.3827, Generator loss: 15.8612\n",
      "Training epoch 7; time spent: 10.18 s\n",
      "        Still running epoch 7... i=0/4\n",
      "        Discriminator loss: 0.2720, Generator loss: 15.2409\n",
      "Training epoch 8; time spent: 10.44 s\n",
      "        Still running epoch 8... i=0/4\n",
      "        Discriminator loss: 0.2336, Generator loss: 14.8256\n",
      "Training epoch 9; time spent: 10.30 s\n",
      "        Still running epoch 9... i=0/4\n",
      "        Discriminator loss: 0.1781, Generator loss: 14.7431\n",
      "Training epoch 10; time spent: 10.16 s\n",
      "        Still running epoch 10... i=0/4\n",
      "        Discriminator loss: 0.2240, Generator loss: 17.7995\n",
      "Training epoch 11; time spent: 10.48 s\n",
      "        Still running epoch 11... i=0/4\n",
      "        Discriminator loss: 0.1141, Generator loss: 14.9151\n",
      "Training epoch 12; time spent: 10.20 s\n",
      "        Still running epoch 12... i=0/4\n",
      "        Discriminator loss: 0.0991, Generator loss: 14.9708\n",
      "Training epoch 13; time spent: 10.03 s\n",
      "        Still running epoch 13... i=0/4\n",
      "        Discriminator loss: 0.0918, Generator loss: 14.8106\n",
      "Training epoch 14; time spent: 10.32 s\n",
      "        Still running epoch 14... i=0/4\n",
      "        Discriminator loss: 0.0818, Generator loss: 15.3280\n",
      "Training epoch 15; time spent: 10.28 s\n",
      "        Still running epoch 15... i=0/4\n",
      "        Discriminator loss: 0.0515, Generator loss: 15.0616\n",
      "Training epoch 16; time spent: 10.90 s\n",
      "        Still running epoch 16... i=0/4\n",
      "        Discriminator loss: 0.0846, Generator loss: 14.8106\n",
      "Training epoch 17; time spent: 10.51 s\n",
      "        Still running epoch 17... i=0/4\n",
      "        Discriminator loss: 0.0440, Generator loss: 14.6620\n",
      "Training epoch 18; time spent: 10.16 s\n",
      "        Still running epoch 18... i=0/4\n",
      "        Discriminator loss: 0.0846, Generator loss: 13.8103\n",
      "Training epoch 19; time spent: 10.38 s\n",
      "        Still running epoch 19... i=0/4\n",
      "        Discriminator loss: 0.1192, Generator loss: 18.1651\n",
      "Training epoch 20; time spent: 10.41 s\n",
      "        Still running epoch 20... i=0/4\n",
      "        Discriminator loss: 0.0781, Generator loss: 28.0688\n",
      "Training epoch 21; time spent: 10.68 s\n",
      "        Still running epoch 21... i=0/4\n",
      "        Discriminator loss: 0.0567, Generator loss: 23.7082\n",
      "Training epoch 22; time spent: 10.77 s\n",
      "        Still running epoch 22... i=0/4\n",
      "        Discriminator loss: 0.0518, Generator loss: 19.3032\n",
      "Training epoch 23; time spent: 10.49 s\n",
      "        Still running epoch 23... i=0/4\n",
      "        Discriminator loss: 0.0252, Generator loss: 16.5588\n",
      "Training epoch 24; time spent: 10.43 s\n",
      "        Still running epoch 24... i=0/4\n",
      "        Discriminator loss: 0.0210, Generator loss: 17.3831\n",
      "Training epoch 25; time spent: 10.26 s\n",
      "        Still running epoch 25... i=0/4\n",
      "        Discriminator loss: 0.0181, Generator loss: 16.1053\n",
      "Training epoch 26; time spent: 10.18 s\n",
      "        Still running epoch 26... i=0/4\n",
      "        Discriminator loss: 0.0144, Generator loss: 31.5237\n",
      "Training epoch 27; time spent: 10.15 s\n",
      "        Still running epoch 27... i=0/4\n",
      "        Discriminator loss: 0.0452, Generator loss: 112126.4490\n",
      "Training epoch 28; time spent: 10.18 s\n",
      "        Still running epoch 28... i=0/4\n",
      "        Discriminator loss: 0.0141, Generator loss: 9587.1784\n",
      "Training epoch 29; time spent: 10.13 s\n",
      "        Still running epoch 29... i=0/4\n",
      "        Discriminator loss: 0.0118, Generator loss: 11099.1287\n",
      "Training epoch 30; time spent: 10.53 s\n",
      "        Still running epoch 30... i=0/4\n",
      "        Discriminator loss: 0.0107, Generator loss: 5681.7410\n",
      "Training epoch 31; time spent: 10.63 s\n",
      "        Still running epoch 31... i=0/4\n",
      "        Discriminator loss: 0.0100, Generator loss: 3514.1193\n",
      "Training epoch 32; time spent: 10.31 s\n",
      "        Still running epoch 32... i=0/4\n",
      "        Discriminator loss: 0.0092, Generator loss: 2461.0674\n",
      "Training epoch 33; time spent: 10.50 s\n",
      "        Still running epoch 33... i=0/4\n",
      "        Discriminator loss: 0.0088, Generator loss: 1847.2620\n",
      "Training epoch 34; time spent: 10.84 s\n",
      "        Still running epoch 34... i=0/4\n",
      "        Discriminator loss: 0.0083, Generator loss: 1433.1148\n",
      "Training epoch 35; time spent: 10.36 s\n",
      "        Still running epoch 35... i=0/4\n",
      "        Discriminator loss: 0.0077, Generator loss: 1116.8790\n",
      "Training epoch 36; time spent: 10.23 s\n",
      "        Still running epoch 36... i=0/4\n",
      "        Discriminator loss: 0.0073, Generator loss: 835.1989\n",
      "Training epoch 37; time spent: 10.15 s\n",
      "        Still running epoch 37... i=0/4\n",
      "        Discriminator loss: 0.0071, Generator loss: 584.8984\n",
      "Training epoch 38; time spent: 10.21 s\n",
      "        Still running epoch 38... i=0/4\n",
      "        Discriminator loss: 0.0075, Generator loss: 374.9927\n",
      "Training epoch 39; time spent: 10.22 s\n",
      "        Still running epoch 39... i=0/4\n",
      "        Discriminator loss: 0.0076, Generator loss: 247.4359\n",
      "Training epoch 40; time spent: 10.02 s\n",
      "        Still running epoch 40... i=0/4\n",
      "        Discriminator loss: 0.0077, Generator loss: 159.2749\n",
      "Training epoch 41; time spent: 10.13 s\n",
      "        Still running epoch 41... i=0/4\n",
      "        Discriminator loss: 0.0078, Generator loss: 100.3052\n",
      "Training epoch 42; time spent: 10.20 s\n",
      "        Still running epoch 42... i=0/4\n",
      "        Discriminator loss: 0.0106, Generator loss: 68.5238\n",
      "Training epoch 43; time spent: 10.06 s\n",
      "        Still running epoch 43... i=0/4\n",
      "        Discriminator loss: 0.0060, Generator loss: 54.1343\n",
      "Training epoch 44; time spent: 10.10 s\n",
      "        Still running epoch 44... i=0/4\n",
      "        Discriminator loss: 0.0074, Generator loss: 37.6831\n",
      "Training epoch 45; time spent: 10.07 s\n",
      "        Still running epoch 45... i=0/4\n",
      "        Discriminator loss: 0.0073, Generator loss: 33.3390\n",
      "Training epoch 46; time spent: 10.16 s\n",
      "        Still running epoch 46... i=0/4\n",
      "        Discriminator loss: 0.0076, Generator loss: 30.7346\n",
      "Training epoch 47; time spent: 10.36 s\n",
      "        Still running epoch 47... i=0/4\n",
      "        Discriminator loss: 0.0066, Generator loss: 29.4112\n",
      "Training epoch 48; time spent: 10.73 s\n",
      "        Still running epoch 48... i=0/4\n",
      "        Discriminator loss: 0.0062, Generator loss: 28.1807\n",
      "Training epoch 49; time spent: 15.75 s\n",
      "        Still running epoch 49... i=0/4\n",
      "        Discriminator loss: 0.0057, Generator loss: 27.1592\n",
      "Training epoch 50; time spent: 11.82 s\n",
      "        Still running epoch 50... i=0/4\n",
      "        Discriminator loss: 0.0061, Generator loss: 28.1416\n",
      "Training epoch 51; time spent: 11.76 s\n",
      "        Still running epoch 51... i=0/4\n",
      "        Discriminator loss: 0.0056, Generator loss: 25.7835\n",
      "Training epoch 52; time spent: 11.47 s\n",
      "        Still running epoch 52... i=0/4\n",
      "        Discriminator loss: 0.0055, Generator loss: 26.4146\n",
      "Training epoch 53; time spent: 11.32 s\n",
      "        Still running epoch 53... i=0/4\n",
      "        Discriminator loss: 0.0052, Generator loss: 25.1191\n",
      "Training epoch 54; time spent: 11.57 s\n",
      "        Still running epoch 54... i=0/4\n",
      "        Discriminator loss: 0.0050, Generator loss: 24.6343\n",
      "Training epoch 55; time spent: 11.91 s\n",
      "        Still running epoch 55... i=0/4\n",
      "        Discriminator loss: 0.0051, Generator loss: 24.9728\n",
      "Training epoch 56; time spent: 11.12 s\n",
      "        Still running epoch 56... i=0/4\n",
      "        Discriminator loss: 0.0044, Generator loss: 23.6408\n",
      "Training epoch 57; time spent: 10.28 s\n",
      "        Still running epoch 57... i=0/4\n",
      "        Discriminator loss: 0.0046, Generator loss: 23.3143\n",
      "Training epoch 58; time spent: 10.03 s\n",
      "        Still running epoch 58... i=0/4\n",
      "        Discriminator loss: 0.0040, Generator loss: 23.0260\n",
      "Training epoch 59; time spent: 10.10 s\n",
      "        Still running epoch 59... i=0/4\n"
     ]
    },
    {
     "name": "stdout",
     "output_type": "stream",
     "text": [
      "        Discriminator loss: 0.0039, Generator loss: 22.7099\n",
      "Training epoch 60; time spent: 10.06 s\n",
      "        Still running epoch 60... i=0/4\n",
      "        Discriminator loss: 0.0038, Generator loss: 22.2366\n",
      "Training epoch 61; time spent: 10.16 s\n",
      "        Still running epoch 61... i=0/4\n",
      "        Discriminator loss: 0.0036, Generator loss: 22.0788\n",
      "Training epoch 62; time spent: 10.16 s\n",
      "        Still running epoch 62... i=0/4\n",
      "        Discriminator loss: 0.0035, Generator loss: 21.7630\n",
      "Training epoch 63; time spent: 11.25 s\n",
      "        Still running epoch 63... i=0/4\n",
      "        Discriminator loss: 0.0033, Generator loss: 21.5776\n",
      "Training epoch 64; time spent: 10.08 s\n",
      "        Still running epoch 64... i=0/4\n",
      "        Discriminator loss: 0.0033, Generator loss: 21.3154\n",
      "Training epoch 65; time spent: 10.03 s\n",
      "        Still running epoch 65... i=0/4\n",
      "        Discriminator loss: 0.0029, Generator loss: 21.3198\n",
      "Training epoch 66; time spent: 10.09 s\n",
      "        Still running epoch 66... i=0/4\n",
      "        Discriminator loss: 0.0030, Generator loss: 20.9269\n",
      "Training epoch 67; time spent: 10.13 s\n",
      "        Still running epoch 67... i=0/4\n",
      "        Discriminator loss: 0.0029, Generator loss: 20.7716\n",
      "Training epoch 68; time spent: 10.14 s\n",
      "        Still running epoch 68... i=0/4\n",
      "        Discriminator loss: 0.0027, Generator loss: 20.5315\n",
      "Training epoch 69; time spent: 10.07 s\n",
      "        Still running epoch 69... i=0/4\n",
      "        Discriminator loss: 0.0027, Generator loss: 20.5504\n",
      "Training epoch 70; time spent: 9.94 s\n",
      "        Still running epoch 70... i=0/4\n",
      "        Discriminator loss: 0.0032, Generator loss: 21.1070\n",
      "Training epoch 71; time spent: 9.94 s\n",
      "        Still running epoch 71... i=0/4\n",
      "        Discriminator loss: 0.0025, Generator loss: 20.3545\n",
      "Training epoch 72; time spent: 9.97 s\n",
      "        Still running epoch 72... i=0/4\n",
      "        Discriminator loss: 0.0022, Generator loss: 20.1651\n",
      "Training epoch 73; time spent: 10.19 s\n",
      "        Still running epoch 73... i=0/4\n",
      "        Discriminator loss: 0.0023, Generator loss: 19.7474\n",
      "Training epoch 74; time spent: 10.08 s\n",
      "        Still running epoch 74... i=0/4\n",
      "        Discriminator loss: 0.0032, Generator loss: 21.9132\n",
      "Training epoch 75; time spent: 10.24 s\n",
      "        Still running epoch 75... i=0/4\n",
      "        Discriminator loss: 0.0018, Generator loss: 21.7110\n",
      "Training epoch 76; time spent: 10.84 s\n",
      "        Still running epoch 76... i=0/4\n",
      "        Discriminator loss: 0.0023, Generator loss: 20.3480\n",
      "Training epoch 77; time spent: 10.10 s\n",
      "        Still running epoch 77... i=0/4\n",
      "        Discriminator loss: 0.0020, Generator loss: 19.8872\n",
      "Training epoch 78; time spent: 10.14 s\n",
      "        Still running epoch 78... i=0/4\n",
      "        Discriminator loss: 0.0021, Generator loss: 19.1679\n",
      "Training epoch 79; time spent: 10.13 s\n",
      "        Still running epoch 79... i=0/4\n",
      "        Discriminator loss: 0.0023, Generator loss: 19.0584\n",
      "Training epoch 80; time spent: 10.08 s\n",
      "        Still running epoch 80... i=0/4\n",
      "        Discriminator loss: 0.0018, Generator loss: 18.8954\n",
      "Training epoch 81; time spent: 10.94 s\n",
      "        Still running epoch 81... i=0/4\n",
      "        Discriminator loss: 0.0018, Generator loss: 18.6536\n",
      "Training epoch 82; time spent: 10.63 s\n",
      "        Still running epoch 82... i=0/4\n",
      "        Discriminator loss: 0.0021, Generator loss: 18.9104\n",
      "Training epoch 83; time spent: 10.43 s\n",
      "        Still running epoch 83... i=0/4\n",
      "        Discriminator loss: 0.0016, Generator loss: 19.3257\n",
      "Training epoch 84; time spent: 10.19 s\n",
      "        Still running epoch 84... i=0/4\n",
      "        Discriminator loss: 0.0016, Generator loss: 18.4868\n",
      "Training epoch 85; time spent: 10.01 s\n",
      "        Still running epoch 85... i=0/4\n",
      "        Discriminator loss: 0.0018, Generator loss: 18.5951\n",
      "Training epoch 86; time spent: 10.00 s\n",
      "        Still running epoch 86... i=0/4\n",
      "        Discriminator loss: 0.0016, Generator loss: 18.2524\n",
      "Training epoch 87; time spent: 10.17 s\n",
      "        Still running epoch 87... i=0/4\n",
      "        Discriminator loss: 0.0017, Generator loss: 18.2234\n",
      "Training epoch 88; time spent: 10.23 s\n",
      "        Still running epoch 88... i=0/4\n",
      "        Discriminator loss: 0.0016, Generator loss: 18.3366\n",
      "Training epoch 89; time spent: 10.43 s\n",
      "        Still running epoch 89... i=0/4\n",
      "        Discriminator loss: 0.0014, Generator loss: 18.2127\n",
      "Training epoch 90; time spent: 10.17 s\n",
      "        Still running epoch 90... i=0/4\n",
      "        Discriminator loss: 0.0014, Generator loss: 17.9531\n",
      "Training epoch 91; time spent: 11.15 s\n",
      "        Still running epoch 91... i=0/4\n",
      "        Discriminator loss: 0.0015, Generator loss: 17.7098\n",
      "Training epoch 92; time spent: 14.12 s\n",
      "        Still running epoch 92... i=0/4\n",
      "        Discriminator loss: 0.0015, Generator loss: 18.1537\n",
      "Training epoch 93; time spent: 12.26 s\n",
      "        Still running epoch 93... i=0/4\n",
      "        Discriminator loss: 0.0015, Generator loss: 17.7411\n",
      "Training epoch 94; time spent: 10.11 s\n",
      "        Still running epoch 94... i=0/4\n",
      "        Discriminator loss: 0.0012, Generator loss: 17.5736\n",
      "Training epoch 95; time spent: 10.16 s\n",
      "        Still running epoch 95... i=0/4\n",
      "        Discriminator loss: 0.0014, Generator loss: 17.5212\n",
      "Training epoch 96; time spent: 10.18 s\n",
      "        Still running epoch 96... i=0/4\n",
      "        Discriminator loss: 0.0013, Generator loss: 17.3704\n",
      "Training epoch 97; time spent: 10.12 s\n",
      "        Still running epoch 97... i=0/4\n",
      "        Discriminator loss: 0.0012, Generator loss: 17.2599\n",
      "Training epoch 98; time spent: 10.86 s\n",
      "        Still running epoch 98... i=0/4\n",
      "        Discriminator loss: 0.0013, Generator loss: 17.3802\n",
      "Training epoch 99; time spent: 10.97 s\n",
      "        Still running epoch 99... i=0/4\n",
      "        Discriminator loss: 0.0012, Generator loss: 17.1555\n",
      "Training epoch 100; time spent: 10.01 s\n",
      "        Still running epoch 100... i=0/4\n",
      "        Discriminator loss: 0.0011, Generator loss: 17.0768\n",
      "Training epoch 101; time spent: 10.15 s\n",
      "        Still running epoch 101... i=0/4\n",
      "        Discriminator loss: 0.0011, Generator loss: 17.0482\n",
      "Training epoch 102; time spent: 10.15 s\n",
      "        Still running epoch 102... i=0/4\n",
      "        Discriminator loss: 0.0013, Generator loss: 17.1205\n",
      "Training epoch 103; time spent: 10.14 s\n",
      "        Still running epoch 103... i=0/4\n",
      "        Discriminator loss: 0.0012, Generator loss: 17.4766\n",
      "Training epoch 104; time spent: 10.21 s\n",
      "        Still running epoch 104... i=0/4\n",
      "        Discriminator loss: 0.0011, Generator loss: 16.9233\n",
      "Training epoch 105; time spent: 10.04 s\n",
      "        Still running epoch 105... i=0/4\n",
      "        Discriminator loss: 0.0011, Generator loss: 16.9925\n",
      "Training epoch 106; time spent: 11.64 s\n",
      "        Still running epoch 106... i=0/4\n",
      "        Discriminator loss: 0.0010, Generator loss: 16.8616\n",
      "Training epoch 107; time spent: 11.06 s\n",
      "        Still running epoch 107... i=0/4\n",
      "        Discriminator loss: 0.0010, Generator loss: 16.9765\n",
      "Training epoch 108; time spent: 10.72 s\n",
      "        Still running epoch 108... i=0/4\n",
      "        Discriminator loss: 0.0009, Generator loss: 16.6964\n",
      "Training epoch 109; time spent: 10.36 s\n",
      "        Still running epoch 109... i=0/4\n",
      "        Discriminator loss: 0.0009, Generator loss: 16.5710\n",
      "Training epoch 110; time spent: 10.41 s\n",
      "        Still running epoch 110... i=0/4\n",
      "        Discriminator loss: 0.0010, Generator loss: 16.5563\n",
      "Training epoch 111; time spent: 11.08 s\n",
      "        Still running epoch 111... i=0/4\n",
      "        Discriminator loss: 0.0009, Generator loss: 16.5452\n",
      "Training epoch 112; time spent: 10.20 s\n",
      "        Still running epoch 112... i=0/4\n",
      "        Discriminator loss: 0.0010, Generator loss: 16.4633\n",
      "Training epoch 113; time spent: 9.95 s\n",
      "        Still running epoch 113... i=0/4\n",
      "        Discriminator loss: 0.0011, Generator loss: 16.5148\n",
      "Training epoch 114; time spent: 9.98 s\n",
      "        Still running epoch 114... i=0/4\n",
      "        Discriminator loss: 0.0009, Generator loss: 16.5470\n",
      "Training epoch 115; time spent: 10.00 s\n",
      "        Still running epoch 115... i=0/4\n",
      "        Discriminator loss: 0.0009, Generator loss: 16.4404\n",
      "Training epoch 116; time spent: 10.23 s\n",
      "        Still running epoch 116... i=0/4\n",
      "        Discriminator loss: 0.0008, Generator loss: 16.3885\n",
      "Training epoch 117; time spent: 10.26 s\n",
      "        Still running epoch 117... i=0/4\n",
      "        Discriminator loss: 0.0008, Generator loss: 16.2747\n",
      "Training epoch 118; time spent: 10.36 s\n",
      "        Still running epoch 118... i=0/4\n"
     ]
    },
    {
     "name": "stdout",
     "output_type": "stream",
     "text": [
      "        Discriminator loss: 0.0009, Generator loss: 16.2539\n",
      "Training epoch 119; time spent: 10.21 s\n",
      "        Still running epoch 119... i=0/4\n",
      "        Discriminator loss: 0.0009, Generator loss: 16.2140\n",
      "Training epoch 120; time spent: 10.21 s\n",
      "        Still running epoch 120... i=0/4\n",
      "        Discriminator loss: 0.0008, Generator loss: 16.1765\n",
      "Training epoch 121; time spent: 14.59 s\n",
      "        Still running epoch 121... i=0/4\n",
      "        Discriminator loss: 0.0008, Generator loss: 16.1311\n",
      "Training epoch 122; time spent: 13.73 s\n",
      "        Still running epoch 122... i=0/4\n",
      "        Discriminator loss: 0.0010, Generator loss: 16.1890\n",
      "Training epoch 123; time spent: 10.33 s\n",
      "        Still running epoch 123... i=0/4\n",
      "        Discriminator loss: 0.0010, Generator loss: 16.4968\n",
      "Training epoch 124; time spent: 10.14 s\n",
      "        Still running epoch 124... i=0/4\n",
      "        Discriminator loss: 0.0007, Generator loss: 16.4625\n",
      "Training epoch 125; time spent: 10.14 s\n",
      "        Still running epoch 125... i=0/4\n",
      "        Discriminator loss: 0.0007, Generator loss: 16.1749\n",
      "Training epoch 126; time spent: 10.11 s\n",
      "        Still running epoch 126... i=0/4\n",
      "        Discriminator loss: 0.0007, Generator loss: 16.2926\n",
      "Training epoch 127; time spent: 10.30 s\n",
      "        Still running epoch 127... i=0/4\n",
      "        Discriminator loss: 0.0008, Generator loss: 16.2998\n",
      "Training epoch 128; time spent: 10.26 s\n",
      "        Still running epoch 128... i=0/4\n",
      "        Discriminator loss: 0.0008, Generator loss: 16.5673\n",
      "Training epoch 129; time spent: 10.05 s\n",
      "        Still running epoch 129... i=0/4\n",
      "        Discriminator loss: 0.0009, Generator loss: 16.3983\n",
      "Training epoch 130; time spent: 11.23 s\n",
      "        Still running epoch 130... i=0/4\n",
      "        Discriminator loss: 0.0006, Generator loss: 15.9788\n",
      "Training epoch 131; time spent: 9.97 s\n",
      "        Still running epoch 131... i=0/4\n",
      "        Discriminator loss: 0.0009, Generator loss: 16.2823\n",
      "Training epoch 132; time spent: 10.04 s\n",
      "        Still running epoch 132... i=0/4\n",
      "        Discriminator loss: 0.0006, Generator loss: 15.9718\n",
      "Training epoch 133; time spent: 10.47 s\n",
      "        Still running epoch 133... i=0/4\n",
      "        Discriminator loss: 0.0008, Generator loss: 16.0837\n",
      "Training epoch 134; time spent: 10.70 s\n",
      "        Still running epoch 134... i=0/4\n",
      "        Discriminator loss: 0.0007, Generator loss: 15.9536\n",
      "Training epoch 135; time spent: 10.27 s\n",
      "        Still running epoch 135... i=0/4\n",
      "        Discriminator loss: 0.0006, Generator loss: 15.8019\n",
      "Training epoch 136; time spent: 10.96 s\n",
      "        Still running epoch 136... i=0/4\n",
      "        Discriminator loss: 0.0006, Generator loss: 15.7964\n",
      "Training epoch 137; time spent: 10.67 s\n",
      "        Still running epoch 137... i=0/4\n",
      "        Discriminator loss: 0.0007, Generator loss: 15.8982\n",
      "Training epoch 138; time spent: 10.11 s\n",
      "        Still running epoch 138... i=0/4\n",
      "        Discriminator loss: 0.0007, Generator loss: 15.9784\n",
      "Training epoch 139; time spent: 10.14 s\n",
      "        Still running epoch 139... i=0/4\n",
      "        Discriminator loss: 0.0006, Generator loss: 15.8244\n",
      "Training epoch 140; time spent: 10.03 s\n",
      "        Still running epoch 140... i=0/4\n",
      "        Discriminator loss: 0.0005, Generator loss: 15.8983\n",
      "Training epoch 141; time spent: 10.32 s\n",
      "        Still running epoch 141... i=0/4\n",
      "        Discriminator loss: 0.0007, Generator loss: 15.9428\n",
      "Training epoch 142; time spent: 10.40 s\n",
      "        Still running epoch 142... i=0/4\n",
      "        Discriminator loss: 0.0009, Generator loss: 17.5518\n",
      "Training epoch 143; time spent: 10.57 s\n",
      "        Still running epoch 143... i=0/4\n",
      "        Discriminator loss: 0.0008, Generator loss: 17.1098\n",
      "Training epoch 144; time spent: 10.28 s\n",
      "        Still running epoch 144... i=0/4\n",
      "        Discriminator loss: 0.0006, Generator loss: 18.3091\n",
      "Training epoch 145; time spent: 10.41 s\n",
      "        Still running epoch 145... i=0/4\n",
      "        Discriminator loss: 0.0007, Generator loss: 18.8477\n",
      "Training epoch 146; time spent: 10.77 s\n",
      "        Still running epoch 146... i=0/4\n",
      "        Discriminator loss: 0.0005, Generator loss: 16.9669\n",
      "Training epoch 147; time spent: 10.18 s\n",
      "        Still running epoch 147... i=0/4\n",
      "        Discriminator loss: 0.0007, Generator loss: 17.4335\n",
      "Training epoch 148; time spent: 10.10 s\n",
      "        Still running epoch 148... i=0/4\n",
      "        Discriminator loss: 0.0006, Generator loss: 16.1954\n",
      "Training epoch 149; time spent: 10.80 s\n",
      "        Still running epoch 149... i=0/4\n",
      "        Discriminator loss: 0.0007, Generator loss: 15.7591\n"
     ]
    }
   ],
   "source": [
    "\n",
    "from torch.autograd import Variable\n",
    "import torch.nn.functional as F\n",
    "\n",
    "n_epochs = 150\n",
    "n_pretrain = 2 # 5 for most succesful\n",
    "alpha = 0.01\n",
    "\n",
    "start_time = time.time() \n",
    "\n",
    "loss_per_epoch_generator = []\n",
    "loss_per_epoch_discriminator = []\n",
    "for epoch in range(n_epochs):\n",
    "    epoch_time = time.time()\n",
    "    \n",
    "    loss_this_epoch_generator=[]\n",
    "    loss_this_epoch_discriminator=[]\n",
    "\n",
    "    ### PRETRAIN\n",
    "    optimizer_G.zero_grad()\n",
    "    if epoch < n_pretrain:\n",
    "        print(f\"Pretraining epoch {epoch}; time spent: {epoch_time - start_time:.2f} s\")\n",
    "        for i, (lowres, highres) in enumerate(dataloader):         \n",
    "\n",
    "            highres_gen = generator(lowres)\n",
    "\n",
    "            # pretrain_generator_loss = generator_loss(highres_gen, highres)\n",
    "            g_loss = generator_loss(highres_gen, highres)\n",
    "\n",
    "            loss_this_epoch_generator.append(g_loss.item())\n",
    "            loss_this_epoch_discriminator.append(0)\n",
    "            \n",
    "            g_loss.backward()\n",
    "            # pretrain_generator_loss.backward()# If didn't use detach() for gen_imgs, all weights of the generator will be calculated with backward(). \n",
    "            optimizer_G.step()\n",
    "            \n",
    "    ### TRAIN   \n",
    "    if epoch>= n_pretrain:\n",
    "        print(f\"Training epoch {epoch}; time spent: {epoch_time - start_time:.2f} s\")\n",
    "        start_time = time.time()  \n",
    "\n",
    "        for i, (lowres, highres_real) in enumerate(dataloader):\n",
    "\n",
    "            time_i = time.time()\n",
    "            if i%20 ==0:\n",
    "                print(f'        Still running epoch {epoch}... i={i}/{len(dataloader)}')\n",
    "\n",
    "            # make the tensors that will be compared in the adverserial losses\n",
    "            valid_dis = Variable(Tensor(highres_real.size(0), 2).fill_(1.0), requires_grad=False) \n",
    "            fake_dis  = Variable(Tensor(highres_real.size(0), 2).fill_(0.0), requires_grad=False)    \n",
    "            \n",
    "            # generate the high resolution image\n",
    "            highres_gen = generator(lowres)\n",
    "### TRAIN GENERATOR \n",
    "            optimizer_G.zero_grad()\n",
    "\n",
    "            # Loss measures generator's ability to fool the discriminator\n",
    "            g_adverserial_loss = discriminator_loss(discriminator(highres_gen), valid_dis) # torch.nn.BCELoss() compare result(64x1) and valid(64x1, filled with 1)\n",
    "            g_content_loss = generator_loss(highres_gen, highres_real)\n",
    "\n",
    "            # alpha is a hyperparameter    \n",
    "            g_loss = g_content_loss + (alpha * g_adverserial_loss)\n",
    "            \n",
    "            loss_this_epoch_generator.append(g_loss.item())\n",
    "            \n",
    "            # now backpropogate the total g_loss\n",
    "            g_loss.backward(retain_graph=True)\n",
    "            optimizer_G.step() \n",
    "            \n",
    "            ### TRAIN DISCRIMINATOR\n",
    "            optimizer_D.zero_grad()\n",
    "\n",
    "            real_loss = discriminator_loss(discriminator(highres_real), valid_dis) \n",
    "            fake_loss = discriminator_loss(discriminator(highres_gen.detach()), fake_dis) \n",
    "\n",
    "            d_loss = (real_loss + fake_loss) / 2\n",
    "            loss_this_epoch_discriminator.append(d_loss.item())\n",
    "\n",
    "            d_loss.backward()\n",
    "            optimizer_D.step()\n",
    "            \n",
    "               \n",
    "            \n",
    "            \n",
    "            \n",
    "            \n",
    "            ### DYNAMICAL STEP; DO IT AGAIN IF DISCRIMINATOR LOSS IS TOO HIGH OR TOO LOW                 \n",
    "            \n",
    "\n",
    "            ### RETRAIN DISCRIMINATOR  \n",
    "            dis_count = 0\n",
    "            while d_loss.item() > 0.6 and (dis_count < 1):              \n",
    "                highres_gen = generator(lowres)\n",
    "                \n",
    "                optimizer_D.zero_grad()\n",
    "\n",
    "                real_loss = discriminator_loss(discriminator(highres_real), valid_dis) \n",
    "                fake_loss = discriminator_loss(discriminator(highres_gen.detach()), fake_dis) \n",
    "\n",
    "                d_loss = (real_loss + fake_loss) / 2\n",
    "                loss_this_epoch_discriminator.append(d_loss.item())\n",
    "\n",
    "                d_loss.backward()\n",
    "                optimizer_D.step()\n",
    "\n",
    "                dis_count += 1\n",
    "\n",
    "            ### RETRAIN GENERATOR\n",
    "            gen_count = 0\n",
    "            while (d_loss.item() < 0.46) and (gen_count < 1):\n",
    "                highres_gen = generator(lowres)\n",
    "                \n",
    "                optimizer_G.zero_grad()\n",
    "\n",
    "                # Loss measures generator's ability to fool the discriminator\n",
    "                g_adverserial_loss = discriminator_loss(discriminator(highres_gen), valid_dis) # torch.nn.BCELoss() compare result(64x1) and valid(64x1, filled with 1)\n",
    "                g_content_loss = generator_loss(highres_gen, highres_real)\n",
    "\n",
    "                # alpha is a hyperparameter    \n",
    "                g_loss = g_content_loss + (alpha * g_adverserial_loss)\n",
    "\n",
    "                loss_this_epoch_generator.append(g_loss.item())\n",
    "\n",
    "                # now backpropogate the total g_loss\n",
    "                g_loss.backward(retain_graph=True)\n",
    "                optimizer_G.step()                \n",
    "\n",
    "                gen_count += 1\n",
    "                \n",
    "    # compute the mean loss for this epoch\n",
    "    mean_loss_discriminator = np.mean(loss_this_epoch_discriminator)\n",
    "    mean_loss_generator = np.mean(loss_this_epoch_generator)\n",
    "    \n",
    "    loss_per_epoch_discriminator.append(mean_loss_discriminator)\n",
    "    loss_per_epoch_generator.append(mean_loss_generator)\n",
    "    \n",
    "    print(f'        Discriminator loss: {mean_loss_discriminator:.4f}, Generator loss: {mean_loss_generator:.4f}')\n",
    "\n",
    "            \n"
   ]
  },
  {
   "cell_type": "code",
   "execution_count": null,
   "id": "269f7c03-ef06-43e3-a758-10d43a435abf",
   "metadata": {
    "tags": []
   },
   "outputs": [],
   "source": []
  },
  {
   "cell_type": "code",
   "execution_count": 267,
   "id": "bddd0288-31e5-4cd9-a3b1-97e0bf8bd148",
   "metadata": {
    "tags": []
   },
   "outputs": [
    {
     "data": {
      "text/plain": [
       "<matplotlib.colorbar.Colorbar at 0x1f9c322ddc0>"
      ]
     },
     "execution_count": 267,
     "metadata": {},
     "output_type": "execute_result"
    },
    {
     "data": {
      "image/png": "[encoded data removed]",
      "text/plain": [
       "<Figure size 1152x576 with 7 Axes>"
      ]
     },
     "metadata": {
      "needs_background": "light"
     },
     "output_type": "display_data"
    }
   ],
   "source": [
    "cmap = mpl.colormaps['seismic']\n",
    "vmin, vmax = -10, 10\n",
    "i = 11\n",
    "\n",
    "fig, axs = plt.subplots(figsize=(16,8), ncols=3, nrows=2, constrained_layout=True)\n",
    "im1 = axs[0,2].imshow(np.flipud(np.squeeze(generator(lowres)).detach()[i,0,:,:]), cmap = cmap, vmin=vmin, vmax=vmax)\n",
    "axs[0,2].set_title('VRGAN Output u')\n",
    "\n",
    "im2 = axs[0,1].imshow(np.flipud(np.squeeze(lowres.detach()[i,0,:,:])), vmin=vmin, vmax=vmax, cmap = cmap)\n",
    "axs[0,1].set_title('LR Input u (NCEP 18km)')\n",
    "\n",
    "im3 = axs[0,0].imshow(np.flipud(np.squeeze(highres.detach()[i,0,:,:])), vmin=vmin, vmax=vmax, cmap=cmap)\n",
    "axs[0,0].set_title('HR Goal u (WRF 9km)')\n",
    "\n",
    "\n",
    "im4 = axs[1,2].imshow(np.flipud(np.squeeze(generator(lowres).detach()[i,1,:,:])), cmap = cmap ,vmin=vmin, vmax=vmax)\n",
    "axs[1,2].set_title('VRGAN Output v')\n",
    "\n",
    "im5 = axs[1,1].imshow(np.flipud(np.squeeze(lowres.detach()[i,1,:,:])), vmin=vmin, vmax=vmax, cmap = cmap)\n",
    "axs[1,1].set_title('LR Input v(NCEP 18km)')\n",
    "\n",
    "im6 = axs[1,0].imshow(np.flipud(np.squeeze(highres.detach()[i,1,:,:])), vmin=vmin, vmax=vmax, cmap=cmap)\n",
    "axs[1,0].set_title('HR Goal v(WRF 9km)')\n",
    "\n",
    "cax,kw = mpl.colorbar.make_axes([ax for ax in axs.flat])\n",
    "plt.colorbar(im1, cax=cax, **kw)\n",
    "\n"
   ]
  },
  {
   "cell_type": "code",
   "execution_count": 228,
   "id": "a852bc14",
   "metadata": {},
   "outputs": [
    {
     "data": {
      "image/png": "[encoded data removed]",
      "text/plain": [
       "<Figure size 1152x576 with 1 Axes>"
      ]
     },
     "metadata": {
      "needs_background": "light"
     },
     "output_type": "display_data"
    }
   ],
   "source": [
    "plt.figure(figsize=(16,8))\n",
    "plt.plot(loss_per_epoch_discriminator)\n",
    "plt.grid()\n",
    "plt.xlabel('# of epochs')\n",
    "plt.ylabel('Discriminator loss')\n",
    "# plt.plot(loss_per_epoch_generator)\n",
    "plt.yscale('log')"
   ]
  },
  {
   "cell_type": "code",
   "execution_count": 229,
   "id": "f1595b86-8f6d-4a61-8cde-8fbb2842bc53",
   "metadata": {
    "scrolled": false,
    "tags": []
   },
   "outputs": [
    {
     "data": {
      "image/png": "[encoded data removed]",
      "text/plain": [
       "<Figure size 1152x576 with 1 Axes>"
      ]
     },
     "metadata": {
      "needs_background": "light"
     },
     "output_type": "display_data"
    }
   ],
   "source": [
    "plt.figure(figsize=(16,8))\n",
    "plt.plot(loss_per_epoch_generator)\n",
    "plt.grid()\n",
    "plt.xlabel('# of epochs')\n",
    "plt.ylabel('Generator loss')\n",
    "# plt.plot(loss_per_epoch_generator)\n",
    "plt.yscale('log')"
   ]
  },
  {
   "cell_type": "code",
   "execution_count": 230,
   "id": "6121383c-b132-4c49-8459-974b7728d29b",
   "metadata": {
    "tags": []
   },
   "outputs": [],
   "source": [
    "# U_NCEP_test = np.reshape(T_NCEP_test_down, newshape=(2920,1,16,16))\n",
    "\n",
    "test_lr = Tensor(lowres).float()\n",
    "test_hr = generator(lowres)"
   ]
  },
  {
   "cell_type": "code",
   "execution_count": 231,
   "id": "a2370879",
   "metadata": {},
   "outputs": [
    {
     "data": {
      "text/plain": [
       "(torch.Size([64, 2, 16, 16]), torch.Size([64, 2, 32, 32]))"
      ]
     },
     "execution_count": 231,
     "metadata": {},
     "output_type": "execute_result"
    }
   ],
   "source": [
    "test_lr.shape, test_hr.shape\n"
   ]
  },
  {
   "cell_type": "code",
   "execution_count": null,
   "id": "8644614e",
   "metadata": {},
   "outputs": [],
   "source": []
  },
  {
   "cell_type": "code",
   "execution_count": 232,
   "id": "2a6ed49f-e46c-484d-b002-2000d3602759",
   "metadata": {
    "scrolled": true,
    "tags": []
   },
   "outputs": [],
   "source": [
    "test_hr_numpy = np.squeeze(test_hr.detach().numpy())\n",
    "# test_hr_numpy[0:,:].shape\n",
    "# test_hr_regrid_u = hf.regrid(test_hr_numpy[0,:,:], 1)\n",
    "# test_hr_regrid_v = hf.regrid(test_hr_numpy[1,:,:], 1)\n",
    "\n",
    "# test_hr_numpy.shape, test_hr_regrid_u.shape,test_hr_regrid_v.shape"
   ]
  },
  {
   "cell_type": "code",
   "execution_count": 233,
   "id": "9b01aff5",
   "metadata": {},
   "outputs": [],
   "source": [
    "# test_hr_numpy[:,:1:,] \n",
    "u = test_hr_numpy[:, 0:1, :, :]\n",
    "v = test_hr_numpy[:, 1:2, :, :]"
   ]
  },
  {
   "cell_type": "code",
   "execution_count": 234,
   "id": "b881bad6",
   "metadata": {},
   "outputs": [],
   "source": [
    "u = np.squeeze(u)\n",
    "v = np.squeeze(v)"
   ]
  },
  {
   "cell_type": "code",
   "execution_count": 235,
   "id": "0a460e6f",
   "metadata": {
    "scrolled": true
   },
   "outputs": [
    {
     "name": "stdout",
     "output_type": "stream",
     "text": [
      "(64, 32, 32)\n"
     ]
    }
   ],
   "source": [
    "print(v.shape)"
   ]
  },
  {
   "cell_type": "code",
   "execution_count": null,
   "id": "ddaea60e",
   "metadata": {
    "scrolled": true
   },
   "outputs": [],
   "source": []
  },
  {
   "cell_type": "code",
   "execution_count": null,
   "id": "845edf1c",
   "metadata": {},
   "outputs": [],
   "source": []
  },
  {
   "cell_type": "code",
   "execution_count": null,
   "id": "02b45034",
   "metadata": {},
   "outputs": [],
   "source": []
  },
  {
   "cell_type": "code",
   "execution_count": 240,
   "id": "b3971524-a3a3-4af8-b9fc-ea2b0d8ba20e",
   "metadata": {
    "tags": []
   },
   "outputs": [
    {
     "data": {
      "text/plain": [
       "<matplotlib.legend.Legend at 0x1f9d362eac0>"
      ]
     },
     "execution_count": 240,
     "metadata": {},
     "output_type": "execute_result"
    },
    {
     "data": {
      "image/png": "[encoded data removed]",
      "text/plain": [
       "<Figure size 1152x576 with 1 Axes>"
      ]
     },
     "metadata": {
      "needs_background": "light"
     },
     "output_type": "display_data"
    }
   ],
   "source": [
    "u_hr_test_x, u_hr_test_kde = compute_pdf(u, WRF_9km_test.U[:64,:,:])\n",
    "v_hr_test_x, v_hr_test_kde = compute_pdf(v, WRF_9km_test.V[:64,:,:])\n",
    "\n",
    "plt.figure(figsize=(16,8))\n",
    "\n",
    "plt.plot(u_hr_test_x, u_hr_test_kde, label='RMSE of downscaled U 10m velocity vs test WRF9km set', c='tab:red', ls='--')\n",
    "plt.plot(v_hr_test_x, v_hr_test_kde, label='RMSE of downscaled V 10m velocity vs WRF9km set', c=colors[0], ls='--')\n",
    "plt.plot(V_pdf_NCEP_WRF9_x, V_pdf_NCEP_WRF9_kde, label='RMSE of V 10m velocity against NCEP data', c=colors[0])\n",
    "plt.plot(U_pdf_NCEP_WRF9_x, U_pdf_NCEP_WRF9_kde, label='RMSE of U 10m velocity against NCEP data', c='tab:red')\n",
    "\n",
    "plt.ylabel('Density')\n",
    "plt.xlabel('RMSE')\n",
    "plt.legend()\n"
   ]
  },
  {
   "cell_type": "code",
   "execution_count": 248,
   "id": "49612d63-f4a8-4e61-9961-1097cca4e13a",
   "metadata": {},
   "outputs": [
    {
     "name": "stdout",
     "output_type": "stream",
     "text": [
      "==========================================================================================\n",
      "Layer (type:depth-idx)                   Output Shape              Param #\n",
      "==========================================================================================\n",
      "├─ConvTranspose2d: 1-1                   [-1, 32, 32, 32]          1,056\n",
      "├─LeakyReLU: 1-2                         [-1, 32, 32, 32]          --\n",
      "├─Conv2d: 1-3                            [-1, 64, 32, 32]          18,496\n",
      "├─LeakyReLU: 1-4                         [-1, 64, 32, 32]          --\n",
      "├─Conv2d: 1-5                            [-1, 128, 32, 32]         73,856\n",
      "├─LeakyReLU: 1-6                         [-1, 128, 32, 32]         --\n",
      "├─Conv2d: 1-7                            [-1, 2, 32, 32]           2,306\n",
      "├─LeakyReLU: 1-8                         [-1, 2, 32, 32]           --\n",
      "==========================================================================================\n",
      "Total params: 95,714\n",
      "Trainable params: 95,714\n",
      "Non-trainable params: 0\n",
      "Total mult-adds (M): 97.78\n",
      "==========================================================================================\n",
      "Input size (MB): 0.00\n",
      "Forward/backward pass size (MB): 1.77\n",
      "Params size (MB): 0.37\n",
      "Estimated Total Size (MB): 2.13\n",
      "==========================================================================================\n"
     ]
    },
    {
     "data": {
      "text/plain": [
       "==========================================================================================\n",
       "Layer (type:depth-idx)                   Output Shape              Param #\n",
       "==========================================================================================\n",
       "├─ConvTranspose2d: 1-1                   [-1, 32, 32, 32]          1,056\n",
       "├─LeakyReLU: 1-2                         [-1, 32, 32, 32]          --\n",
       "├─Conv2d: 1-3                            [-1, 64, 32, 32]          18,496\n",
       "├─LeakyReLU: 1-4                         [-1, 64, 32, 32]          --\n",
       "├─Conv2d: 1-5                            [-1, 128, 32, 32]         73,856\n",
       "├─LeakyReLU: 1-6                         [-1, 128, 32, 32]         --\n",
       "├─Conv2d: 1-7                            [-1, 2, 32, 32]           2,306\n",
       "├─LeakyReLU: 1-8                         [-1, 2, 32, 32]           --\n",
       "==========================================================================================\n",
       "Total params: 95,714\n",
       "Trainable params: 95,714\n",
       "Non-trainable params: 0\n",
       "Total mult-adds (M): 97.78\n",
       "==========================================================================================\n",
       "Input size (MB): 0.00\n",
       "Forward/backward pass size (MB): 1.77\n",
       "Params size (MB): 0.37\n",
       "Estimated Total Size (MB): 2.13\n",
       "=========================================================================================="
      ]
     },
     "execution_count": 248,
     "metadata": {},
     "output_type": "execute_result"
    }
   ],
   "source": [
    "from torchsummary import summary\n",
    "summary(generator, (2, 16, 16))"
   ]
  },
  {
   "cell_type": "code",
   "execution_count": 250,
   "id": "2c61491e",
   "metadata": {},
   "outputs": [
    {
     "name": "stdout",
     "output_type": "stream",
     "text": [
      "==========================================================================================\n",
      "Layer (type:depth-idx)                   Output Shape              Param #\n",
      "==========================================================================================\n",
      "├─Conv2d: 1-1                            [-1, 64, 32, 32]          1,216\n",
      "├─Sequential: 1-2                        [-1, 64, 16, 16]          --\n",
      "|    └─Conv2d: 2-1                       [-1, 64, 16, 16]          36,928\n",
      "|    └─BatchNorm2d: 2-2                  [-1, 64, 16, 16]          128\n",
      "|    └─LeakyReLU: 2-3                    [-1, 64, 16, 16]          --\n",
      "├─Sequential: 1-3                        [-1, 128, 16, 16]         --\n",
      "|    └─Conv2d: 2-4                       [-1, 128, 16, 16]         73,856\n",
      "|    └─BatchNorm2d: 2-5                  [-1, 128, 16, 16]         256\n",
      "|    └─LeakyReLU: 2-6                    [-1, 128, 16, 16]         --\n",
      "├─Sequential: 1-4                        [-1, 128, 8, 8]           --\n",
      "|    └─Conv2d: 2-7                       [-1, 128, 8, 8]           147,584\n",
      "|    └─BatchNorm2d: 2-8                  [-1, 128, 8, 8]           256\n",
      "|    └─LeakyReLU: 2-9                    [-1, 128, 8, 8]           --\n",
      "├─Sequential: 1-5                        [-1, 256, 8, 8]           --\n",
      "|    └─Conv2d: 2-10                      [-1, 256, 8, 8]           295,168\n",
      "|    └─BatchNorm2d: 2-11                 [-1, 256, 8, 8]           512\n",
      "|    └─LeakyReLU: 2-12                   [-1, 256, 8, 8]           --\n",
      "├─Sequential: 1-6                        [-1, 256, 4, 4]           --\n",
      "|    └─Conv2d: 2-13                      [-1, 256, 4, 4]           590,080\n",
      "|    └─BatchNorm2d: 2-14                 [-1, 256, 4, 4]           512\n",
      "|    └─LeakyReLU: 2-15                   [-1, 256, 4, 4]           --\n",
      "├─Sequential: 1-7                        [-1, 512, 4, 4]           --\n",
      "|    └─Conv2d: 2-16                      [-1, 512, 4, 4]           1,180,160\n",
      "|    └─BatchNorm2d: 2-17                 [-1, 512, 4, 4]           1,024\n",
      "|    └─LeakyReLU: 2-18                   [-1, 512, 4, 4]           --\n",
      "├─Sequential: 1-8                        [-1, 512, 2, 2]           --\n",
      "|    └─Conv2d: 2-19                      [-1, 512, 2, 2]           2,359,808\n",
      "|    └─BatchNorm2d: 2-20                 [-1, 512, 2, 2]           1,024\n",
      "|    └─LeakyReLU: 2-21                   [-1, 512, 2, 2]           --\n",
      "├─Sequential: 1-9                        [-1, 2]                   --\n",
      "|    └─AdaptiveAvgPool2d: 2-22           [-1, 512, 2, 2]           --\n",
      "|    └─Flatten: 2-23                     [-1, 2048]                --\n",
      "|    └─Linear: 2-24                      [-1, 1024]                2,098,176\n",
      "|    └─LeakyReLU: 2-25                   [-1, 1024]                --\n",
      "|    └─Linear: 2-26                      [-1, 2]                   2,050\n",
      "|    └─Sigmoid: 2-27                     [-1, 2]                   --\n",
      "==========================================================================================\n",
      "Total params: 6,788,738\n",
      "Trainable params: 6,788,738\n",
      "Non-trainable params: 0\n",
      "Total mult-adds (M): 104.44\n",
      "==========================================================================================\n",
      "Input size (MB): 0.01\n",
      "Forward/backward pass size (MB): 1.85\n",
      "Params size (MB): 25.90\n",
      "Estimated Total Size (MB): 27.76\n",
      "==========================================================================================\n"
     ]
    },
    {
     "data": {
      "text/plain": [
       "==========================================================================================\n",
       "Layer (type:depth-idx)                   Output Shape              Param #\n",
       "==========================================================================================\n",
       "├─Conv2d: 1-1                            [-1, 64, 32, 32]          1,216\n",
       "├─Sequential: 1-2                        [-1, 64, 16, 16]          --\n",
       "|    └─Conv2d: 2-1                       [-1, 64, 16, 16]          36,928\n",
       "|    └─BatchNorm2d: 2-2                  [-1, 64, 16, 16]          128\n",
       "|    └─LeakyReLU: 2-3                    [-1, 64, 16, 16]          --\n",
       "├─Sequential: 1-3                        [-1, 128, 16, 16]         --\n",
       "|    └─Conv2d: 2-4                       [-1, 128, 16, 16]         73,856\n",
       "|    └─BatchNorm2d: 2-5                  [-1, 128, 16, 16]         256\n",
       "|    └─LeakyReLU: 2-6                    [-1, 128, 16, 16]         --\n",
       "├─Sequential: 1-4                        [-1, 128, 8, 8]           --\n",
       "|    └─Conv2d: 2-7                       [-1, 128, 8, 8]           147,584\n",
       "|    └─BatchNorm2d: 2-8                  [-1, 128, 8, 8]           256\n",
       "|    └─LeakyReLU: 2-9                    [-1, 128, 8, 8]           --\n",
       "├─Sequential: 1-5                        [-1, 256, 8, 8]           --\n",
       "|    └─Conv2d: 2-10                      [-1, 256, 8, 8]           295,168\n",
       "|    └─BatchNorm2d: 2-11                 [-1, 256, 8, 8]           512\n",
       "|    └─LeakyReLU: 2-12                   [-1, 256, 8, 8]           --\n",
       "├─Sequential: 1-6                        [-1, 256, 4, 4]           --\n",
       "|    └─Conv2d: 2-13                      [-1, 256, 4, 4]           590,080\n",
       "|    └─BatchNorm2d: 2-14                 [-1, 256, 4, 4]           512\n",
       "|    └─LeakyReLU: 2-15                   [-1, 256, 4, 4]           --\n",
       "├─Sequential: 1-7                        [-1, 512, 4, 4]           --\n",
       "|    └─Conv2d: 2-16                      [-1, 512, 4, 4]           1,180,160\n",
       "|    └─BatchNorm2d: 2-17                 [-1, 512, 4, 4]           1,024\n",
       "|    └─LeakyReLU: 2-18                   [-1, 512, 4, 4]           --\n",
       "├─Sequential: 1-8                        [-1, 512, 2, 2]           --\n",
       "|    └─Conv2d: 2-19                      [-1, 512, 2, 2]           2,359,808\n",
       "|    └─BatchNorm2d: 2-20                 [-1, 512, 2, 2]           1,024\n",
       "|    └─LeakyReLU: 2-21                   [-1, 512, 2, 2]           --\n",
       "├─Sequential: 1-9                        [-1, 2]                   --\n",
       "|    └─AdaptiveAvgPool2d: 2-22           [-1, 512, 2, 2]           --\n",
       "|    └─Flatten: 2-23                     [-1, 2048]                --\n",
       "|    └─Linear: 2-24                      [-1, 1024]                2,098,176\n",
       "|    └─LeakyReLU: 2-25                   [-1, 1024]                --\n",
       "|    └─Linear: 2-26                      [-1, 2]                   2,050\n",
       "|    └─Sigmoid: 2-27                     [-1, 2]                   --\n",
       "==========================================================================================\n",
       "Total params: 6,788,738\n",
       "Trainable params: 6,788,738\n",
       "Non-trainable params: 0\n",
       "Total mult-adds (M): 104.44\n",
       "==========================================================================================\n",
       "Input size (MB): 0.01\n",
       "Forward/backward pass size (MB): 1.85\n",
       "Params size (MB): 25.90\n",
       "Estimated Total Size (MB): 27.76\n",
       "=========================================================================================="
      ]
     },
     "execution_count": 250,
     "metadata": {},
     "output_type": "execute_result"
    }
   ],
   "source": [
    "summary(discriminator, (2, 32, 32))"
   ]
  },
  {
   "cell_type": "code",
   "execution_count": null,
   "id": "7aaaa945",
   "metadata": {},
   "outputs": [],
   "source": []
  },
  {
   "cell_type": "code",
   "execution_count": null,
   "id": "ec336d95",
   "metadata": {},
   "outputs": [],
   "source": []
  }
 ],
 "metadata": {
  "kernelspec": {
   "display_name": "Python 3 (ipykernel)",
   "language": "python",
   "name": "python3"
  },
  "language_info": {
   "codemirror_mode": {
    "name": "ipython",
    "version": 3
   },
   "file_extension": ".py",
   "mimetype": "text/x-python",
   "name": "python",
   "nbconvert_exporter": "python",
   "pygments_lexer": "ipython3",
   "version": "3.9.12"
  }
 },
 "nbformat": 4,
 "nbformat_minor": 5
}
